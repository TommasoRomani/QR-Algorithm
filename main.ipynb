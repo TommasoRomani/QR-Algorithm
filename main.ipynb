{
 "cells": [
  {
   "cell_type": "markdown",
   "metadata": {},
   "source": [
    "# QR Algorithm\n",
    "\n",
    "Ci sono delle proprietà:\n",
    "\n",
    "- Dato che gli eigenvalue di una matrice tirangolare sono gli elementi sulla diagonale, questo algoritmo permette di trovarli.\n",
    "- Similarity transformation preserva gli eigenvalue.\n",
    "\n",
    "La matrice A viene **decomposta** in A = QR dove Q è ortogonale e R è triangolare superiore."
   ]
  },
  {
   "cell_type": "markdown",
   "metadata": {},
   "source": [
    "## Gram-Schmidt\n",
    "Come prima implementazione proviamo con l'algoritmo di **Gram-Schmidt**\n"
   ]
  },
  {
   "cell_type": "code",
   "execution_count": 1,
   "metadata": {},
   "outputs": [],
   "source": [
    "import numpy as np\n",
    "from itertools import product\n",
    "from math import copysign, hypot\n",
    "\n",
    "\n"
   ]
  },
  {
   "cell_type": "code",
   "execution_count": 2,
   "metadata": {},
   "outputs": [],
   "source": [
    "def print_matrix(matrix):\n",
    "    s = [[str(e) for e in row] for row in matrix]\n",
    "    lens = [max(map(len, col)) for col in zip(*s)]\n",
    "    fmt = '\\t'.join('{{:{}}}'.format(x) for x in lens)\n",
    "    table = [fmt.format(*row) for row in s]\n",
    "    print('\\n'.join(table))\n",
    "    return"
   ]
  },
  {
   "cell_type": "code",
   "execution_count": 12,
   "metadata": {},
   "outputs": [],
   "source": [
    "def qr_decomp_gram_schmidt(A):\n",
    "    m, n = A.shape\n",
    "    rank = np.linalg.matrix_rank(A)\n",
    "\n",
    "    if rank < n:\n",
    "        print(f\"Il rango della matrice è {rank} il quale è inferiore del numero delle colonne {n}!\")\n",
    "    \n",
    "    Q = np.zeros((m, n))\n",
    "    \n",
    "    for i, column in enumerate(A.T):\n",
    "        Q[:,i] = column\n",
    "\n",
    "        for prev in Q.T[:i]:\n",
    "            Q[:,i] -= (prev @ column) / (prev @ prev) * prev\n",
    "    \n",
    "    Q /= np.linalg.norm(Q,axis=0)\n",
    "    R = Q.T @ A\n",
    "\n",
    "    return Q, R"
   ]
  },
  {
   "cell_type": "code",
   "execution_count": 13,
   "metadata": {},
   "outputs": [],
   "source": [
    "# Tests\n",
    "\n",
    "#TODO: rendere i test non dipendenti da una sola funzione\n",
    "\n",
    "def test_orthonormality(A):\n",
    "    Q, _ = qr_decomp_gram_schmidt(A)\n",
    "    I = Q.T @ Q\n",
    "\n",
    "    assert len(set(I.shape)) == 1, \"L'identità computata deve essere una matrice quadrata!\"\n",
    "    assert np.allclose(I, np.eye(I.shape[0])), \"L'identità  computata deve essere una matrice identità!\"\n",
    "\n",
    "def test_upper_triangular(A):\n",
    "    _, R = qr_decomp_gram_schmidt(A)\n",
    "\n",
    "    assert len(set(R.shape)) == 1, \"La matrice triangolare superiore computata dovrebbe essere una matrice quadrata!\"\n",
    "\n",
    "    for i, row in enumerate(R):\n",
    "        assert np.allclose(row[:i], 0), f\"La riga {i} della matrice triangolare superiore calcolata non è giusta!\"\n",
    "\n",
    "def test_multiplication(A):\n",
    "    Q,R = qr_decomp_gram_schmidt(A)\n",
    "    \n",
    "    assert np.allclose(Q @ R, A), \"La moltiplicazione fra le matrici ottenute non restituisce la matrice originaria!\""
   ]
  },
  {
   "cell_type": "code",
   "execution_count": 14,
   "metadata": {},
   "outputs": [
    {
     "name": "stdout",
     "output_type": "stream",
     "text": [
      "tutti i test sono superati\n"
     ]
    }
   ],
   "source": [
    "test_matricies = (\n",
    "    np.random.random((2, 2)),\n",
    "    np.random.random((5, 2)),\n",
    "    np.random.random((5, 5)),\n",
    "    np.random.random((9, 8)),\n",
    ")\n",
    "\n",
    "tests = (\n",
    "    test_orthonormality,\n",
    "    test_upper_triangular,\n",
    "    test_multiplication,\n",
    ")\n",
    "\n",
    "for test, matrix in product(tests, test_matricies):\n",
    "    test(matrix)\n",
    "\n",
    "print(\"tutti i test sono superati\")"
   ]
  },
  {
   "cell_type": "markdown",
   "metadata": {},
   "source": [
    "# Givens Rotation\n",
    "proviamo ad implementare le givens rotation per migliorare la velocità di esecuzione."
   ]
  },
  {
   "cell_type": "code",
   "execution_count": 25,
   "metadata": {},
   "outputs": [],
   "source": [
    "def qr_decomp_givens_rotation(A):\n",
    "\n",
    "    (num_rows, num_cols) = np.shape(A)\n",
    "    if num_rows == num_cols: \n",
    "        # Initialize Q,R\n",
    "        # Q = orthogonal matrix\n",
    "        # R =  upper triangular matrix\n",
    "        Q = np.identity(num_rows)\n",
    "        R = np.copy(A)\n",
    "\n",
    "        # Iterate over lower triangular matrix.\n",
    "        (rows, cols) = np.tril_indices(num_rows, -1, num_cols)\n",
    "        #print(rows, cols)\n",
    "        for (row, col) in zip(rows, cols):\n",
    "\n",
    "            # Compute Givens rotation matrix and\n",
    "            # zero-out lower triangular matrix entries.\n",
    "            if R[row, col] != 0:\n",
    "                (c, s) = Givens_Rotation_Matrix_Entries(R[col, col], R[row, col])\n",
    "\n",
    "                G = np.identity(num_rows)\n",
    "                G[[col, row], [col, row]] = c\n",
    "                G[row, col] = s\n",
    "                G[col, row] = -s\n",
    "\n",
    "                R = np.dot(G, R)\n",
    "                Q = np.dot(Q, G.T)\n",
    "                #R = G @ R\n",
    "                #Q = Q @ G.T\n",
    "        return Q, R\n",
    "    else:\n",
    "        Q = np.eye(num_rows)\n",
    "        R = np.copy(A)\n",
    "\n",
    "        rows, cols = np.tril_indices(num_rows, -1, num_cols)\n",
    "        for (row, col) in zip(rows, cols):\n",
    "            # If the subdiagonal element is nonzero, then compute the nonzero \n",
    "            # components of the rotation matrix\n",
    "            if R[row, col] != 0:\n",
    "                r = np.sqrt(R[col, col]**2 + R[row, col]**2)\n",
    "                c, s = R[col, col]/r, -R[row, col]/r\n",
    "\n",
    "                # The rotation matrix is highly discharged, so it makes no sense \n",
    "                # to calculate the total matrix product\n",
    "                R[col], R[row] = R[col]*c + R[row]*(-s), R[col]*s + R[row]*c\n",
    "                Q[:, col], Q[:, row] = Q[:, col]*c + Q[:, row]*(-s), Q[:, col]*s + Q[:, row]*c\n",
    "\n",
    "        return Q[:, :num_cols], R[:num_cols]\n",
    "\n",
    "\n",
    "\n",
    "##### Compute matrix entries for Givens rotation. #####\n",
    "\n",
    "def Givens_Rotation_Matrix_Entries(a, b):\n",
    "    r = hypot(a, b)\n",
    "    c = a/r\n",
    "    s = -b/r\n",
    "\n",
    "    return (c, s)"
   ]
  },
  {
   "cell_type": "code",
   "execution_count": 23,
   "metadata": {},
   "outputs": [],
   "source": [
    "def test_orthonormality(A):\n",
    "    Q, _ = qr_decomp_givens_rotation(A)\n",
    "    I = Q.T @ Q\n",
    "\n",
    "    assert len(set(I.shape)) == 1, \"L'identità computata deve essere una matrice quadrata!\"\n",
    "    assert np.allclose(I, np.eye(I.shape[0])), \"L'identità  computata deve essere una matrice identità!\"\n",
    "\n",
    "def test_upper_triangular(A):\n",
    "    _, R = qr_decomp_givens_rotation(A)\n",
    "\n",
    "    assert len(set(R.shape)) == 1, \"La matrice triangolare superiore computata dovrebbe essere una matrice quadrata!\"\n",
    "\n",
    "    for i, row in enumerate(R):\n",
    "        assert np.allclose(row[:i], 0), f\"La riga {i} della matrice triangolare superiore calcolata non è giusta!\"\n",
    "\n",
    "def test_multiplication(A):\n",
    "    Q, R = qr_decomp_givens_rotation(A)\n",
    "    \n",
    "    assert np.allclose(Q @ R, A), \"La moltiplicazione fra le matrici ottenute non restituisce la matrice originaria!\""
   ]
  },
  {
   "cell_type": "code",
   "execution_count": 29,
   "metadata": {},
   "outputs": [
    {
     "name": "stdout",
     "output_type": "stream",
     "text": [
      "tutti i test sono superati\n"
     ]
    }
   ],
   "source": [
    "test_matricies = (\n",
    "    np.random.random((3, 3)),\n",
    "    np.random.random((4, 5)),\n",
    "    np.random.random((5, 5)),\n",
    "    np.random.random((9, 8)),\n",
    ")\n",
    "\n",
    "tests = (\n",
    "    test_orthonormality,\n",
    "    test_multiplication,\n",
    ")\n",
    "\n",
    "for test, matrix in product(tests, test_matricies):\n",
    "    test(matrix)\n",
    "\n",
    "print(\"tutti i test sono superati\")"
   ]
  },
  {
   "cell_type": "code",
   "execution_count": 26,
   "metadata": {},
   "outputs": [
    {
     "name": "stdout",
     "output_type": "stream",
     "text": [
      "[[0.39926392 0.77770333 0.86150654 0.99774404]\n",
      " [0.54909614 0.96948566 0.71784402 0.08072706]\n",
      " [0.58422336 0.64957978 0.68166213 0.5432887 ]\n",
      " [0.73168753 0.70449762 0.41615202 0.66714856]]\n",
      "[[ 0.39224754  0.0863236  -0.82561526 -0.39629477]\n",
      " [ 0.          0.97708796  0.          0.21283588]\n",
      " [ 0.57395662  0.1263131   0.5642335  -0.57987874]\n",
      " [ 0.71882937 -0.14796064  0.          0.67925841]]\n",
      "[[ 1.01788765e+00  1.18429642e+00  1.02831061e+00  1.18275278e+00]\n",
      " [ 5.36515233e-01  9.92219425e-01  8.00293824e-01  1.34919044e-01]\n",
      " [-2.62225490e-17 -2.75569064e-01 -3.26656339e-01 -5.17211022e-01]\n",
      " [ 1.16867363e-01  1.05207765e-17 -3.01234187e-01 -2.40094428e-01]]\n",
      "[[0.39926392 0.77770333 0.86150654 0.99774404]\n",
      " [0.54909614 0.96948566 0.71784402 0.08072706]\n",
      " [0.58422336 0.64957978 0.68166213 0.5432887 ]\n",
      " [0.73168753 0.70449762 0.41615202 0.66714856]]\n"
     ]
    }
   ],
   "source": [
    "A = np.random.random((4, 4))\n",
    "\n",
    "Q, R = qr_decomp_givens_rotation(A)\n",
    "\n",
    "print(A)\n",
    "print(Q)\n",
    "print(R)\n",
    "\n",
    "print(Q @ R)"
   ]
  },
  {
   "cell_type": "markdown",
   "metadata": {},
   "source": [
    "# Unshifted QR similarità di Hessenberg\n",
    "\n",
    "con questo metodo si prova a creare una matrice di Hessenberg simile a quelle di partenza applicando gli housolder reflector, lasciando invariati gli autovalori"
   ]
  },
  {
   "cell_type": "code",
   "execution_count": 63,
   "metadata": {},
   "outputs": [],
   "source": [
    "# da vedere se serve\n",
    "'''\n",
    "def Hessenberg_reduction(A):\n",
    "    n = np.size(A,1)\n",
    "    H = A\n",
    "    if(n > 2):\n",
    "        a1 = A[2:n, 1]\n",
    "        e1 = np.zeros(n-2)\n",
    "        e1[1] = 1\n",
    "        sgn = np.sign(a1[1])\n",
    "        v = a1 + sgn*np.linalg.norm(a1)*e1\n",
    "        v = v/np.linalg.norm(v)\n",
    "        Q1 = np.eye(n-2) - 2*(v*v.T)\n",
    "        A[2:n, 1] = Q1@ A[2:n, 1]\n",
    "        A[1, 2:n] = Q1@A[1, 2:n]\n",
    "        A[2:n, 2:n] = Q1@A[2:n, 2:n]@Q1.T\n",
    "        H = Hessenberg_reduction(A[2:n, 2:n])\n",
    "    else:\n",
    "        H = np.copy(A)\n",
    "    return A\n",
    "'''\n",
    "def Givens_Rotation_Matrix_Entries(a, b):\n",
    "    r = hypot(a, b)\n",
    "    c = a/r\n",
    "    s = b/r\n",
    "    return c, s\n",
    "\n",
    "\n",
    "def Hessenberg_reduction(A):\n",
    "    # mi trovo gli indici della sottodiagonale corrispondente agli elementi da azzerare\n",
    "    (num_rows, num_cols) = np.shape(A)\n",
    "    (rows, cols) = np.tril_indices(num_rows, -2, num_cols)\n",
    "    #print(rows,cols)\n",
    "    #index = zip(rows, cols)\n",
    "    #print(index)\n",
    "    #itero sugli indici appena trovati \n",
    "    for (col, row) in sorted(zip(cols, rows)):\n",
    "    #controlla se l'elemento da azzerare è già uguale a zero\n",
    "        print(row, col)\n",
    "        if A[row, col] != 0:\n",
    "            # trova gli indici della matrice di givens unando come pivot [col, col](sempre != 0)\n",
    "            c, s = Givens_Rotation_Matrix_Entries(A[col,col], A[row, col])\n",
    "            \n",
    "            #si costruisce la matrice di givens partendo dall'identità\n",
    "            G = np.identity(num_rows)\n",
    "            #assegna gli indici trovati precedentemente alla matrice di givens\n",
    "            G[col, col] = c\n",
    "            G[row, row] = c\n",
    "            G[row, col] = -s\n",
    "            G[col, row] = s\n",
    "            # annichilisce l'elemento in posizione A[row, col]\n",
    "            A = G @ A\n",
    "            \n",
    "            print(\"-----------------------------------------\")\n",
    "    return A"
   ]
  },
  {
   "cell_type": "code",
   "execution_count": 64,
   "metadata": {},
   "outputs": [
    {
     "name": "stdout",
     "output_type": "stream",
     "text": [
      "2 0\n",
      "-----------------------------------------\n",
      "3 0\n",
      "-----------------------------------------\n",
      "4 0\n",
      "-----------------------------------------\n",
      "3 1\n",
      "-----------------------------------------\n",
      "4 1\n",
      "-----------------------------------------\n",
      "4 2\n",
      "-----------------------------------------\n",
      "-------------------------------------------------------------\n",
      "0.8377955526570058 \t0.6224276679030574    \t0.7505741752499596 \t1.256029293109885   \t0.6871812173709613 \n",
      "0.40460879444606423\t0.6188241804781464    \t0.7445787575584891 \t0.633672241255206   \t0.805557773745107  \n",
      "0.14482969903140244\t0.16057347642661607   \t0.11967711816791898\t-0.13914772852146512\t0.2174753591086757 \n",
      "0.09748653897192412\t2.0726059769446304e-18\t0.4951716059105419 \t0.20609894434532466 \t0.30350413406280735\n",
      "0.11356509599033628\t-0.20477954128856402  \t8.9055994462659e-18\t-0.8171262333248429 \t-0.8043776167563778\n"
     ]
    }
   ],
   "source": [
    "A = np.random.random((5, 5))\n",
    "#print_matrix(A)\n",
    "A = Hessenberg_reduction(A)\n",
    "print(\"-------------------------------------------------------------\")\n",
    "print_matrix(A)"
   ]
  },
  {
   "cell_type": "code",
   "execution_count": null,
   "metadata": {},
   "outputs": [],
   "source": [
    "test_matricies = (\n",
    "    hessenberg(np.random.random((3, 3))),\n",
    "    hessenberg(np.random.random((4, 4))),\n",
    "    hessenberg(np.random.random((5, 5))),\n",
    "    hessenberg(np.random.random((9, 9))),\n",
    ")\n",
    "\n",
    "tests = (\n",
    "    test_orthonormality,\n",
    "    test_multiplication,\n",
    ")\n",
    "\n",
    "for test, matrix in product(tests, test_matricies):\n",
    "    test(matrix)\n",
    "\n",
    "print(\"tutti i test sono superati\")"
   ]
  }
 ],
 "metadata": {
  "kernelspec": {
   "display_name": "Python 3.10.7 64-bit",
   "language": "python",
   "name": "python3"
  },
  "language_info": {
   "codemirror_mode": {
    "name": "ipython",
    "version": 3
   },
   "file_extension": ".py",
   "mimetype": "text/x-python",
   "name": "python",
   "nbconvert_exporter": "python",
   "pygments_lexer": "ipython3",
   "version": "3.10.7"
  },
  "orig_nbformat": 4,
  "vscode": {
   "interpreter": {
    "hash": "5631ed1244acc908bdcc521c1152625356df314a59e330ff21c3c3488890eb87"
   }
  }
 },
 "nbformat": 4,
 "nbformat_minor": 2
}
