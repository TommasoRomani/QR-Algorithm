{
 "cells": [
  {
   "cell_type": "markdown",
   "metadata": {},
   "source": [
    "# QR Algorithm\n",
    "\n",
    "Ci sono delle proprietà:\n",
    "\n",
    "- Dato che gli eigenvalue di una matrice tirangolare sono gli elementi sulla diagonale, questo algoritmo permette di trovarli.\n",
    "- Similarity transformation preserva gli eigenvalue.\n",
    "\n",
    "La matrice A viene **decomposta** in A = QR dove Q è ortogonale e R è triangolare superiore."
   ]
  },
  {
   "cell_type": "code",
   "execution_count": 1,
   "metadata": {},
   "outputs": [],
   "source": [
    "import numpy as np\n",
    "from itertools import product\n",
    "from math import copysign, hypot, sqrt\n",
    "from scipy.linalg import hessenberg\n",
    "\n",
    "def print_matrix(matrix):\n",
    "    s = [[str(e) for e in row] for row in matrix]\n",
    "    lens = [max(map(len, col)) for col in zip(*s)]\n",
    "    fmt = '\\t'.join('{{:{}}}'.format(x) for x in lens)\n",
    "    table = [fmt.format(*row) for row in s]\n",
    "    print('\\n'.join(table))\n",
    "    return"
   ]
  },
  {
   "attachments": {},
   "cell_type": "markdown",
   "metadata": {},
   "source": [
    "# Shifted QR Algorithm\n",
    "\n",
    "Questo approccio ci consente di ridurre considerevolmente il tempo di esecuzione dell'algoritmo QR, ma per poterlo utilizzare è necessario ridurre la matrice di partenza in forma di Hessenberg"
   ]
  },
  {
   "attachments": {},
   "cell_type": "markdown",
   "metadata": {},
   "source": [
    "## Riduzione in forma di Hessenberg\n",
    "Per ridurre la matrice di partenza A in forma di Hessenberg utilizzeremo le Givens Rotation, per azzerare gli elementi sotto la prima sottodiagonale.\n",
    "Iteriamo lungo le colonne a partire dall'ultimo elemento, così da poter scegliere come pivot l'elemento immediatamente sopra."
   ]
  },
  {
   "cell_type": "code",
   "execution_count": 20,
   "metadata": {},
   "outputs": [],
   "source": [
    "# TODO da controllare se funziona per matrici non quadrate, e in caso implementare una versione funzionante.\n",
    "\n",
    "def Givens_Rotation_Matrix_Entries(a, b):\n",
    "    #r = hypot(a.astype(complex), b.astype(complex))\n",
    "    #r = sqrt(a.astype(complex)**2 + b.astype(complex)**2)\n",
    "    r = hypot(a,b)\n",
    "    c = a/r\n",
    "    s = b/r    \n",
    "    return c, s\n",
    "\n",
    "def Hessenberg_reduction(A):\n",
    "    # mi trovo gli indici della sottodiagonale corrispondente agli elementi da azzerarcole\n",
    "    (num_rows, num_cols) = np.shape(A)\n",
    "    #itero sugli indici appena trovati \n",
    "    for col in range(num_cols-2):\n",
    "        for row in reversed(range(2+col,num_cols)):\n",
    "            # trova gli indici della matrice di givens unando come pivot [col, col](sempre != 0)\n",
    "            c, s = Givens_Rotation_Matrix_Entries(A[row-1, col], A[row, col])\n",
    "            #si costruisce la matrice di givens partendo dall'identità\n",
    "            G = np.identity(num_rows)\n",
    "            #G.astype(complex)\n",
    "            #assegna gli indici trovati precedentemente alla matrice di givens\n",
    "            G[row-1, row-1] = c\n",
    "            G[row, row] = c\n",
    "            G[row, row-1] = -s\n",
    "            G[row-1, row] = s\n",
    "            # annichilisce l'elemento in posizione A[row, col]\n",
    "            A = G @ A @ G.T\n",
    "           \n",
    "            if A[row, col] < 1.e-16:\n",
    "                A[row,col] = 0\n",
    "\n",
    "    return A"
   ]
  },
  {
   "cell_type": "code",
   "execution_count": 21,
   "metadata": {},
   "outputs": [
    {
     "name": "stdout",
     "output_type": "stream",
     "text": [
      "(0.7271494893271033+0j)\t(0.3950968608750848+0j)\t(0.7151900577249689+0j) \t(-0.2323443868862157+0j) \t(0.48672057656756823+0j)  \n",
      "(1.167474792481163+0j) \t(1.56967795144568+0j)  \t(0.9132994161653475+0j) \t(-0.23316122645135556+0j)\t(-0.31709550260123315+0j) \n",
      "0j                     \t(1.2163429396787522+0j)\t(0.31675243510088963+0j)\t(0.14966193504421405+0j) \t(-0.16873415411031464+0j) \n",
      "0j                     \t0j                     \t(0.15840995387395826+0j)\t(0.2064384935119564+0j)  \t(-0.003255237008346824+0j)\n",
      "0j                     \t0j                     \t0j                      \t(0.19296701867242888+0j) \t(-0.5651209208484306+0j)  \n"
     ]
    }
   ],
   "source": [
    "A = np.random.random((5, 5))\n",
    "A = Hessenberg_reduction(A)\n",
    "print_matrix(A)"
   ]
  },
  {
   "attachments": {},
   "cell_type": "markdown",
   "metadata": {},
   "source": [
    "## Shifted QR\n",
    "Ora che abbiamo una matrice in forma di Hessenberg possiamo passare all'implementazione dello Shifted QR algorithm, l'aumento di velocità dipende dal fatto che, se si parte da una matrice in forma di Hessenberg allora sono necessarie solo O(n^2) operazioni.\n",
    "\n",
    "In particolare noi utilizzeremo una single shift strategy con i Rayleigh quotient shift"
   ]
  },
  {
   "cell_type": "code",
   "execution_count": 22,
   "metadata": {},
   "outputs": [],
   "source": [
    "def shifted_QR(A):\n",
    "    H = Hessenberg_reduction(A)\n",
    "    #H = hessenberg(A)\n",
    "    #H.astype(complex)\n",
    "    (num_rows, num_cols) = np.shape(H)\n",
    "    for m in range(num_rows-1, 0, -1):\n",
    "        count = 0\n",
    "        while (abs(H[m,m-1]) > 1.e-20) and 1000 > count:\n",
    "            count += 1\n",
    "            Q, R = np.linalg.qr(H - (H[m,m] * np.eye(num_rows)))\n",
    "            H = (np.dot(R, Q)) + (H[m,m] * np.eye(num_rows))\n",
    "        H[m,m-1] = 0\n",
    "    return H"
   ]
  },
  {
   "cell_type": "code",
   "execution_count": 23,
   "metadata": {},
   "outputs": [
    {
     "name": "stdout",
     "output_type": "stream",
     "text": [
      "[ 2.38305437+0.j         -0.29865503+0.37871917j -0.29865503-0.37871917j\n",
      "  0.33477813+0.36241226j  0.33477813-0.36241226j]\n"
     ]
    },
    {
     "name": "stderr",
     "output_type": "stream",
     "text": [
      "C:\\Users\\tomma\\AppData\\Local\\Temp\\ipykernel_15284\\1297531189.py:6: ComplexWarning: Casting complex values to real discards the imaginary part\n",
      "  r = hypot(a,b)\n",
      "C:\\Users\\tomma\\AppData\\Local\\Temp\\ipykernel_15284\\1297531189.py:23: ComplexWarning: Casting complex values to real discards the imaginary part\n",
      "  G[row-1, row-1] = c\n",
      "C:\\Users\\tomma\\AppData\\Local\\Temp\\ipykernel_15284\\1297531189.py:24: ComplexWarning: Casting complex values to real discards the imaginary part\n",
      "  G[row, row] = c\n",
      "C:\\Users\\tomma\\AppData\\Local\\Temp\\ipykernel_15284\\1297531189.py:25: ComplexWarning: Casting complex values to real discards the imaginary part\n",
      "  G[row, row-1] = -s\n",
      "C:\\Users\\tomma\\AppData\\Local\\Temp\\ipykernel_15284\\1297531189.py:26: ComplexWarning: Casting complex values to real discards the imaginary part\n",
      "  G[row-1, row] = s\n"
     ]
    },
    {
     "name": "stdout",
     "output_type": "stream",
     "text": [
      "(2.3830543668462925+0j)\t(0.24613552852557913+0j)\t(-0.5687168432647985+0j) \t(0.06728904834692226+0j)\t(-0.10518463180417272+0j)\n",
      "0j                     \t(-0.5307102198173428+0j)\t(0.3319992114149355+0j)  \t(0.38514188416435957+0j)\t(-0.5901605700989215+0j) \n",
      "0j                     \t0j                      \t(-0.06659984540661901+0j)\t(0.0871816514981949+0j) \t(0.20528500713855874+0j) \n",
      "0j                     \t0j                      \t0j                       \t(0.33477813415722746+0j)\t(-0.24785376373008136+0j)\n",
      "0j                     \t0j                      \t0j                       \t0j                      \t(0.33477813415722746+0j) \n"
     ]
    }
   ],
   "source": [
    "A = np.random.random((5, 5))\n",
    "print(np.linalg.eig(A)[0])\n",
    "#A = A.astype(complex)\n",
    "H = shifted_QR(A)\n",
    "print_matrix(H)"
   ]
  }
 ],
 "metadata": {
  "kernelspec": {
   "display_name": "Python 3.10.7 64-bit",
   "language": "python",
   "name": "python3"
  },
  "language_info": {
   "codemirror_mode": {
    "name": "ipython",
    "version": 3
   },
   "file_extension": ".py",
   "mimetype": "text/x-python",
   "name": "python",
   "nbconvert_exporter": "python",
   "pygments_lexer": "ipython3",
   "version": "3.10.7"
  },
  "orig_nbformat": 4,
  "vscode": {
   "interpreter": {
    "hash": "5631ed1244acc908bdcc521c1152625356df314a59e330ff21c3c3488890eb87"
   }
  }
 },
 "nbformat": 4,
 "nbformat_minor": 2
}
