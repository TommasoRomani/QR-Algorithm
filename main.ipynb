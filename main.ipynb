{
 "cells": [
  {
   "cell_type": "markdown",
   "metadata": {},
   "source": [
    "# QR Algorithm\n",
    "\n",
    "Ci sono delle proprietà:\n",
    "\n",
    "- Dato che gli eigenvalue di una matrice tirangolare sono gli elementi sulla diagonale, questo algoritmo permette di trovarli.\n",
    "- Similarity transformation preserva gli eigenvalue.\n",
    "\n",
    "La matrice A viene **decomposta** in A = QR dove Q è ortogonale e R è triangolare superiore."
   ]
  },
  {
   "cell_type": "code",
   "execution_count": 2,
   "metadata": {},
   "outputs": [],
   "source": [
    "import numpy as np\n",
    "from itertools import product\n",
    "from math import copysign, hypot, sqrt\n",
    "from scipy.linalg import hessenberg\n",
    "\n",
    "def print_matrix(matrix):\n",
    "    s = [[str(e) for e in row] for row in matrix]\n",
    "    lens = [max(map(len, col)) for col in zip(*s)]\n",
    "    fmt = '\\t'.join('{{:{}}}'.format(x) for x in lens)\n",
    "    table = [fmt.format(*row) for row in s]\n",
    "    print('\\n'.join(table))\n",
    "    return"
   ]
  },
  {
   "cell_type": "markdown",
   "metadata": {},
   "source": [
    "## Gram-Schmidt\n",
    "Come prima implementazione proviamo con l'algoritmo di **Gram-Schmidt**\n"
   ]
  },
  {
   "cell_type": "code",
   "execution_count": null,
   "metadata": {},
   "outputs": [],
   "source": [
    "def qr_decomp_gram_schmidt(A):\n",
    "    m, n = A.shape\n",
    "    rank = np.linalg.matrix_rank(A)\n",
    "\n",
    "    if rank < n:\n",
    "        print(f\"Il rango della matrice è {rank} il quale è inferiore del numero delle colonne {n}!\")\n",
    "    \n",
    "    Q = np.zeros((m, n))\n",
    "    \n",
    "    for i, column in enumerate(A.T):\n",
    "        Q[:,i] = column\n",
    "\n",
    "        for prev in Q.T[:i]:\n",
    "            Q[:,i] -= (prev @ column) / (prev @ prev) * prev\n",
    "    \n",
    "    Q /= np.linalg.norm(Q,axis=0)\n",
    "    R = Q.T @ A\n",
    "\n",
    "    return Q, R"
   ]
  },
  {
   "cell_type": "code",
   "execution_count": null,
   "metadata": {},
   "outputs": [],
   "source": [
    "# Tests\n",
    "\n",
    "#TODO: rendere i test non dipendenti da una sola funzione\n",
    "\n",
    "def test_orthonormality(A):\n",
    "    Q, _ = qr_decomp_gram_schmidt(A)\n",
    "    I = Q.T @ Q\n",
    "\n",
    "    assert len(set(I.shape)) == 1, \"L'identità computata deve essere una matrice quadrata!\"\n",
    "    assert np.allclose(I, np.eye(I.shape[0])), \"L'identità  computata deve essere una matrice identità!\"\n",
    "\n",
    "def test_upper_triangular(A):\n",
    "    _, R = qr_decomp_gram_schmidt(A)\n",
    "\n",
    "    assert len(set(R.shape)) == 1, \"La matrice triangolare superiore computata dovrebbe essere una matrice quadrata!\"\n",
    "\n",
    "    for i, row in enumerate(R):\n",
    "        assert np.allclose(row[:i], 0), f\"La riga {i} della matrice triangolare superiore calcolata non è giusta!\"\n",
    "\n",
    "def test_multiplication(A):\n",
    "    Q,R = qr_decomp_gram_schmidt(A)\n",
    "    \n",
    "    assert np.allclose(Q @ R, A), \"La moltiplicazione fra le matrici ottenute non restituisce la matrice originaria!\""
   ]
  },
  {
   "cell_type": "code",
   "execution_count": null,
   "metadata": {},
   "outputs": [],
   "source": [
    "test_matricies = (\n",
    "    np.random.random((2, 2)),\n",
    "    np.random.random((5, 2)),\n",
    "    np.random.random((5, 5)),\n",
    "    np.random.random((9, 8)),\n",
    ")\n",
    "\n",
    "tests = (\n",
    "    test_orthonormality,\n",
    "    test_upper_triangular,\n",
    "    test_multiplication,\n",
    ")\n",
    "\n",
    "for test, matrix in product(tests, test_matricies):\n",
    "    test(matrix)\n",
    "\n",
    "print(\"tutti i test sono superati\")"
   ]
  },
  {
   "cell_type": "markdown",
   "metadata": {},
   "source": [
    "# Givens Rotation\n",
    "proviamo ad implementare le givens rotation per migliorare la velocità di esecuzione."
   ]
  },
  {
   "cell_type": "code",
   "execution_count": null,
   "metadata": {},
   "outputs": [],
   "source": [
    "def qr_decomp_givens_rotation(A):\n",
    "\n",
    "    (num_rows, num_cols) = np.shape(A)\n",
    "    if num_rows == num_cols: \n",
    "        # Initialize Q,R\n",
    "        # Q = orthogonal matrix\n",
    "        # R =  upper triangular matrix\n",
    "        Q = np.identity(num_rows)\n",
    "        R = np.copy(A)\n",
    "\n",
    "        # Iterate over lower triangular matrix.\n",
    "        (rows, cols) = np.tril_indices(num_rows, -1, num_cols)\n",
    "        #print(rows, cols)\n",
    "        for (row, col) in zip(rows, cols):\n",
    "\n",
    "            # Compute Givens rotation matrix and\n",
    "            # zero-out lower triangular matrix entries.\n",
    "            if R[row, col] != 0:\n",
    "                (c, s) = Givens_Rotation_Matrix_Entries(R[col, col], R[row, col])\n",
    "\n",
    "                G = np.identity(num_rows)\n",
    "                G[[col, row], [col, row]] = c\n",
    "                G[row, col] = s\n",
    "                G[col, row] = -s\n",
    "\n",
    "                R = np.dot(G, R)\n",
    "                Q = np.dot(Q, G.T)\n",
    "                #R = G @ R\n",
    "                #Q = Q @ G.T\n",
    "        return Q, R\n",
    "    else:\n",
    "        Q = np.eye(num_rows)\n",
    "        R = np.copy(A)\n",
    "\n",
    "        rows, cols = np.tril_indices(num_rows, -1, num_cols)\n",
    "        for (row, col) in zip(rows, cols):\n",
    "            # If the subdiagonal element is nonzero, then compute the nonzero \n",
    "            # components of the rotation matrix\n",
    "            if R[row, col] != 0:\n",
    "                r = np.sqrt(R[col, col]**2 + R[row, col]**2)\n",
    "                c, s = R[col, col]/r, -R[row, col]/r\n",
    "\n",
    "                # The rotation matrix is highly discharged, so it makes no sense \n",
    "                # to calculate the total matrix product\n",
    "                R[col], R[row] = R[col]*c + R[row]*(-s), R[col]*s + R[row]*c\n",
    "                Q[:, col], Q[:, row] = Q[:, col]*c + Q[:, row]*(-s), Q[:, col]*s + Q[:, row]*c\n",
    "\n",
    "        return Q[:, :num_cols], R[:num_cols]\n",
    "\n",
    "\n",
    "\n",
    "##### Compute matrix entries for Givens rotation. #####\n",
    "\n",
    "def Givens_Rotation_Matrix_Entries(a, b):\n",
    "    r = hypot(a, b)\n",
    "    c = a/r\n",
    "    s = -b/r\n",
    "\n",
    "    return (c, s)"
   ]
  },
  {
   "cell_type": "code",
   "execution_count": null,
   "metadata": {},
   "outputs": [],
   "source": [
    "def test_orthonormality(A):\n",
    "    Q, _ = qr_decomp_givens_rotation(A)\n",
    "    I = Q.T @ Q\n",
    "\n",
    "    assert len(set(I.shape)) == 1, \"L'identità computata deve essere una matrice quadrata!\"\n",
    "    assert np.allclose(I, np.eye(I.shape[0])), \"L'identità  computata deve essere una matrice identità!\"\n",
    "\n",
    "def test_upper_triangular(A):\n",
    "    _, R = qr_decomp_givens_rotation(A)\n",
    "\n",
    "    assert len(set(R.shape)) == 1, \"La matrice triangolare superiore computata dovrebbe essere una matrice quadrata!\"\n",
    "\n",
    "    for i, row in enumerate(R):\n",
    "        assert np.allclose(row[:i], 0), f\"La riga {i} della matrice triangolare superiore calcolata non è giusta!\"\n",
    "\n",
    "def test_multiplication(A):\n",
    "    Q, R = qr_decomp_givens_rotation(A)\n",
    "    \n",
    "    assert np.allclose(Q @ R, A), \"La moltiplicazione fra le matrici ottenute non restituisce la matrice originaria!\""
   ]
  },
  {
   "cell_type": "code",
   "execution_count": null,
   "metadata": {},
   "outputs": [],
   "source": [
    "test_matricies = (\n",
    "    np.random.random((3, 3)),\n",
    "    np.random.random((4, 5)),\n",
    "    np.random.random((5, 5)),\n",
    "    np.random.random((9, 8)),\n",
    ")\n",
    "\n",
    "tests = (\n",
    "    test_orthonormality,\n",
    "    test_multiplication,\n",
    ")\n",
    "\n",
    "for test, matrix in product(tests, test_matricies):\n",
    "    test(matrix)\n",
    "\n",
    "print(\"tutti i test sono superati\")"
   ]
  },
  {
   "cell_type": "code",
   "execution_count": null,
   "metadata": {},
   "outputs": [],
   "source": [
    "A = np.random.random((4, 4))\n",
    "\n",
    "Q, R = qr_decomp_givens_rotation(A)\n",
    "\n",
    "print(A)\n",
    "print(Q)\n",
    "print(R)\n",
    "\n",
    "print(Q @ R)"
   ]
  },
  {
   "attachments": {},
   "cell_type": "markdown",
   "metadata": {},
   "source": [
    "# Shifted QR Algorithm\n",
    "\n",
    "Questo approccio ci consente di ridurre considerevolmente il tempo di esecuzione dell'algoritmo QR, ma per poterlo utilizzare è necessario ridurre la matrice di partenza in forma di Hessenberg"
   ]
  },
  {
   "attachments": {},
   "cell_type": "markdown",
   "metadata": {},
   "source": [
    "## Riduzione in forma di Hessenberg\n",
    "Per ridurre la matrice di partenza A in forma di Hessenberg utilizzeremo le Givens Rotation, per azzerare gli elementi sotto la prima sottodiagonale.\n",
    "Iteriamo lungo le colonne a partire dall'ultimo elemento, così da poter scegliere come pivot l'elemento immediatamente sopra."
   ]
  },
  {
   "cell_type": "code",
   "execution_count": 5,
   "metadata": {},
   "outputs": [],
   "source": [
    "# TODO da controllare se funziona per matrici non quadrate, e in caso implementare una versione funzionante.\n",
    "\n",
    "def Givens_Rotation_Matrix_Entries(a, b):\n",
    "    r = hypot(a, b)\n",
    "    c = a/r\n",
    "    s = b/r    \n",
    "    return c.astype(complex), s.astype(complex)\n",
    "\n",
    "def Hessenberg_reduction(A):\n",
    "    # mi trovo gli indici della sottodiagonale corrispondente agli elementi da azzerare\n",
    "    (num_rows, num_cols) = np.shape(A)\n",
    "    # Q ci serve per calcolarci la forma di Schur\n",
    "    Q = np.identity(num_rows)\n",
    "    Q.astype(complex)\n",
    "    #itero sugli indici appena trovati \n",
    "    for col in range(num_cols-2):\n",
    "        for row in reversed(range(2+col,num_cols)):\n",
    "            # trova gli indici della matrice di givens unando come pivot [col, col](sempre != 0)\n",
    "            c, s = Givens_Rotation_Matrix_Entries(A[row-1, col], A[row, col])\n",
    "            #si costruisce la matrice di givens partendo dall'identità\n",
    "            G = np.identity(num_rows)\n",
    "            G.astype(complex)\n",
    "            #assegna gli indici trovati precedentemente alla matrice di givens\n",
    "            G[row-1, row-1] = c\n",
    "            G[row, row] = c\n",
    "            G[row, row-1] = -s\n",
    "            G[row-1, row] = s\n",
    "            # annichilisce l'elemento in posizione A[row, col]\n",
    "            A = np.dot(G,A)\n",
    "            Q = np.dot(Q, G.T)\n",
    "\n",
    "    return A, Q"
   ]
  },
  {
   "cell_type": "code",
   "execution_count": 165,
   "metadata": {},
   "outputs": [
    {
     "name": "stdout",
     "output_type": "stream",
     "text": [
      "0.09594336536641934    \t0.658281814628423      \t0.7315514428324481    \t0.14586512225794157    \t0.634421372604482     \t0.3428496206137449     \t0.6287456992564215   \t0.523699210414967   \n",
      "2.035140794221702      \t0.9420099660051818     \t0.8332866544741618    \t1.626551817678596      \t1.551917955459717     \t1.2263422697902342     \t1.582591020101457    \t1.0618882432560186  \n",
      "-1.574453631304314e-17 \t0.7631715211278537     \t0.08978522056117487   \t-0.014814611012883599  \t-0.1778120528630447   \t-0.09398627940433493   \t-0.16664185283074986 \t0.808350309384908   \n",
      "-7.436004384871168e-17 \t-1.0166920954688148e-17\t1.1136682347257103    \t0.3291024363428603     \t0.24754098384038425   \t0.658543806994685      \t0.5486887251063868   \t0.20848152602580775 \n",
      "-3.942374025419432e-17 \t3.748578305135035e-18  \t5.03546325026886e-18  \t0.5135135628250461     \t-0.10565047333822992  \t-0.1285779597888271    \t-0.3745791342494465  \t-0.399320224853932  \n",
      "-2.9661983765753526e-17\t2.111188746348006e-18  \t1.2600436360883715e-17\t4.3758857177001615e-18 \t0.8233313229369068    \t-0.13388775926704713   \t0.30866142420077414  \t0.2262977196053738  \n",
      "-5.435115769157979e-17 \t-2.1205547794915903e-17\t-4.612135574621559e-18\t-1.9317961873585503e-18\t-6.617369232379246e-17\t0.41244782253252554    \t-0.005486330488043151\t-0.4722105801396015 \n",
      "6.170753026406173e-17  \t-9.284193290596905e-18 \t1.868843930577428e-18 \t1.0999042253981556e-17 \t-7.153133077083582e-18\t-2.1102190759659876e-18\t-0.10290862524084576 \t-0.20057931583690355\n"
     ]
    },
    {
     "name": "stderr",
     "output_type": "stream",
     "text": [
      "C:\\Users\\tomma\\AppData\\Local\\Temp\\ipykernel_11664\\1503993989.py:24: ComplexWarning: Casting complex values to real discards the imaginary part\n",
      "  G[row-1, row-1] = c\n",
      "C:\\Users\\tomma\\AppData\\Local\\Temp\\ipykernel_11664\\1503993989.py:25: ComplexWarning: Casting complex values to real discards the imaginary part\n",
      "  G[row, row] = c\n",
      "C:\\Users\\tomma\\AppData\\Local\\Temp\\ipykernel_11664\\1503993989.py:26: ComplexWarning: Casting complex values to real discards the imaginary part\n",
      "  G[row, row-1] = -s\n",
      "C:\\Users\\tomma\\AppData\\Local\\Temp\\ipykernel_11664\\1503993989.py:27: ComplexWarning: Casting complex values to real discards the imaginary part\n",
      "  G[row-1, row] = s\n"
     ]
    }
   ],
   "source": [
    "A = np.random.random((8, 8))\n",
    "(A, Q) = Hessenberg_reduction(A)\n",
    "print_matrix(A)"
   ]
  },
  {
   "attachments": {},
   "cell_type": "markdown",
   "metadata": {},
   "source": [
    "## Shifted QR\n",
    "Ora che abbiamo una matrice in forma di Hessenberg possiamo passare all'implementazione dello Shifted QR algorithm, l'aumento di velocità dipende dal fatto che, se si parte da una matrice in forma di Hessenberg allora sono necessarie solo O(n^2) operazioni.\n",
    "\n",
    "In particolare noi utilizzeremo una single shift strategy con i Rayleigh quotient shift"
   ]
  },
  {
   "cell_type": "code",
   "execution_count": 66,
   "metadata": {},
   "outputs": [],
   "source": [
    "def shifted_QR(A):\n",
    "    #H, _ = Hessenberg_reduction(A)\n",
    "    H = hessenberg(A)\n",
    "    H.astype(complex)\n",
    "    (num_rows, num_cols) = np.shape(H)\n",
    "    print_matrix(H)\n",
    "    print(\"----------------------------------\")\n",
    "    #U = np.eye(num_rows)\n",
    "    print((1.e-20 + 1j))\n",
    "    for m in range(num_rows-1, 2, -1):\n",
    "        print(abs(H[m,m-1]))\n",
    "        while (abs(H[m,m-1]) > (1.e-20 + 1j)):\n",
    "            #print(\"Primo H[m,m]\", H[m,m])\n",
    "            #print(\"Prima\")\n",
    "            #print_matrix((H[m,m] * np.eye(num_rows)))\n",
    "            #print(\"Dopo\")\n",
    "            #print_matrix((H - (H[m,m] * np.eye(num_rows))))\n",
    "            #return\n",
    "            Q, R = np.linalg.qr(H - (H[m,m] * np.eye(num_rows)))\n",
    "            H = (R @ Q) + (H[m,m] * np.eye(num_rows))\n",
    "            #U = U @ Q\n",
    "            #print(\"Secondo H[m,m]\", H[m,m])\n",
    "    #return H, U\n",
    "    return H"
   ]
  },
  {
   "cell_type": "code",
   "execution_count": 68,
   "metadata": {},
   "outputs": [
    {
     "name": "stdout",
     "output_type": "stream",
     "text": [
      "(0.7091758983442791+0j)\t(-0.9127367601359574+0j)\t(-0.7746000795908365+0j)\t(-0.17605519831112237+0j)\t(-0.06164959010633089+0j) \n",
      "(-1.120609977499966+0j)\t(1.9370705472345826+0j) \t(0.1747354997961708+0j) \t(0.44398191123813224+0j) \t(0.3086771400854649+0j)   \n",
      "0j                     \t(0.7859245215612374+0j) \t(0.29904191132633273+0j)\t(-0.23800783470218828+0j)\t(-0.019765598987698446+0j)\n",
      "0j                     \t0j                      \t(0.32595065133066714+0j)\t(0.20313929177158452+0j) \t(0.7450439553435654+0j)   \n",
      "0j                     \t0j                      \t0j                      \t(-0.3200135825079382+0j) \t(-0.3566368994637787+0j)  \n",
      "----------------------------------\n",
      "(1e-20+1j)\n",
      "0.3200135825079382\n"
     ]
    },
    {
     "ename": "KeyboardInterrupt",
     "evalue": "",
     "output_type": "error",
     "traceback": [
      "\u001b[1;31m---------------------------------------------------------------------------\u001b[0m",
      "\u001b[1;31mKeyboardInterrupt\u001b[0m                         Traceback (most recent call last)",
      "\u001b[1;32mc:\\Users\\tomma\\Documents\\Univarsià\\QR-Algorithm\\main.ipynb Cella 18\u001b[0m in \u001b[0;36m<cell line: 3>\u001b[1;34m()\u001b[0m\n\u001b[0;32m      <a href='vscode-notebook-cell:/c%3A/Users/tomma/Documents/Univarsi%C3%A0/QR-Algorithm/main.ipynb#X23sZmlsZQ%3D%3D?line=0'>1</a>\u001b[0m A \u001b[39m=\u001b[39m np\u001b[39m.\u001b[39mrandom\u001b[39m.\u001b[39mrandom((\u001b[39m5\u001b[39m, \u001b[39m5\u001b[39m))\n\u001b[0;32m      <a href='vscode-notebook-cell:/c%3A/Users/tomma/Documents/Univarsi%C3%A0/QR-Algorithm/main.ipynb#X23sZmlsZQ%3D%3D?line=1'>2</a>\u001b[0m A \u001b[39m=\u001b[39m A\u001b[39m.\u001b[39mastype(\u001b[39mcomplex\u001b[39m)\n\u001b[1;32m----> <a href='vscode-notebook-cell:/c%3A/Users/tomma/Documents/Univarsi%C3%A0/QR-Algorithm/main.ipynb#X23sZmlsZQ%3D%3D?line=2'>3</a>\u001b[0m H \u001b[39m=\u001b[39m shifted_QR(A)\n\u001b[0;32m      <a href='vscode-notebook-cell:/c%3A/Users/tomma/Documents/Univarsi%C3%A0/QR-Algorithm/main.ipynb#X23sZmlsZQ%3D%3D?line=3'>4</a>\u001b[0m print_matrix(H)\n",
      "\u001b[1;32mc:\\Users\\tomma\\Documents\\Univarsià\\QR-Algorithm\\main.ipynb Cella 18\u001b[0m in \u001b[0;36mshifted_QR\u001b[1;34m(A)\u001b[0m\n\u001b[0;32m     <a href='vscode-notebook-cell:/c%3A/Users/tomma/Documents/Univarsi%C3%A0/QR-Algorithm/main.ipynb#X23sZmlsZQ%3D%3D?line=10'>11</a>\u001b[0m     \u001b[39mprint\u001b[39m(\u001b[39mabs\u001b[39m(H[m,m\u001b[39m-\u001b[39m\u001b[39m1\u001b[39m]))\n\u001b[0;32m     <a href='vscode-notebook-cell:/c%3A/Users/tomma/Documents/Univarsi%C3%A0/QR-Algorithm/main.ipynb#X23sZmlsZQ%3D%3D?line=11'>12</a>\u001b[0m     \u001b[39mwhile\u001b[39;00m (\u001b[39mabs\u001b[39m(H[m,m\u001b[39m-\u001b[39m\u001b[39m1\u001b[39m]) \u001b[39m>\u001b[39m (\u001b[39m1.e-20\u001b[39m \u001b[39m+\u001b[39m \u001b[39m1\u001b[39mj)):\n\u001b[0;32m     <a href='vscode-notebook-cell:/c%3A/Users/tomma/Documents/Univarsi%C3%A0/QR-Algorithm/main.ipynb#X23sZmlsZQ%3D%3D?line=12'>13</a>\u001b[0m         \u001b[39m#print(\"Primo H[m,m]\", H[m,m])\u001b[39;00m\n\u001b[0;32m     <a href='vscode-notebook-cell:/c%3A/Users/tomma/Documents/Univarsi%C3%A0/QR-Algorithm/main.ipynb#X23sZmlsZQ%3D%3D?line=13'>14</a>\u001b[0m         \u001b[39m#print(\"Prima\")\u001b[39;00m\n\u001b[1;32m   (...)\u001b[0m\n\u001b[0;32m     <a href='vscode-notebook-cell:/c%3A/Users/tomma/Documents/Univarsi%C3%A0/QR-Algorithm/main.ipynb#X23sZmlsZQ%3D%3D?line=16'>17</a>\u001b[0m         \u001b[39m#print_matrix((H - (H[m,m] * np.eye(num_rows))))\u001b[39;00m\n\u001b[0;32m     <a href='vscode-notebook-cell:/c%3A/Users/tomma/Documents/Univarsi%C3%A0/QR-Algorithm/main.ipynb#X23sZmlsZQ%3D%3D?line=17'>18</a>\u001b[0m         \u001b[39m#return\u001b[39;00m\n\u001b[1;32m---> <a href='vscode-notebook-cell:/c%3A/Users/tomma/Documents/Univarsi%C3%A0/QR-Algorithm/main.ipynb#X23sZmlsZQ%3D%3D?line=18'>19</a>\u001b[0m         Q, R \u001b[39m=\u001b[39m np\u001b[39m.\u001b[39;49mlinalg\u001b[39m.\u001b[39;49mqr(H \u001b[39m-\u001b[39;49m (H[m,m] \u001b[39m*\u001b[39;49m np\u001b[39m.\u001b[39;49meye(num_rows)))\n\u001b[0;32m     <a href='vscode-notebook-cell:/c%3A/Users/tomma/Documents/Univarsi%C3%A0/QR-Algorithm/main.ipynb#X23sZmlsZQ%3D%3D?line=19'>20</a>\u001b[0m         H \u001b[39m=\u001b[39m (R \u001b[39m@\u001b[39m Q) \u001b[39m+\u001b[39m (H[m,m] \u001b[39m*\u001b[39m np\u001b[39m.\u001b[39meye(num_rows))\n\u001b[0;32m     <a href='vscode-notebook-cell:/c%3A/Users/tomma/Documents/Univarsi%C3%A0/QR-Algorithm/main.ipynb#X23sZmlsZQ%3D%3D?line=20'>21</a>\u001b[0m         \u001b[39m#U = U @ Q\u001b[39;00m\n\u001b[0;32m     <a href='vscode-notebook-cell:/c%3A/Users/tomma/Documents/Univarsi%C3%A0/QR-Algorithm/main.ipynb#X23sZmlsZQ%3D%3D?line=21'>22</a>\u001b[0m         \u001b[39m#print(\"Secondo H[m,m]\", H[m,m])\u001b[39;00m\n\u001b[0;32m     <a href='vscode-notebook-cell:/c%3A/Users/tomma/Documents/Univarsi%C3%A0/QR-Algorithm/main.ipynb#X23sZmlsZQ%3D%3D?line=22'>23</a>\u001b[0m \u001b[39m#return H, U\u001b[39;00m\n",
      "File \u001b[1;32m<__array_function__ internals>:180\u001b[0m, in \u001b[0;36mqr\u001b[1;34m(*args, **kwargs)\u001b[0m\n",
      "File \u001b[1;32mc:\\Users\\tomma\\AppData\\Local\\Programs\\Python\\Python310\\lib\\site-packages\\numpy\\linalg\\linalg.py:923\u001b[0m, in \u001b[0;36mqr\u001b[1;34m(a, mode)\u001b[0m\n\u001b[0;32m    921\u001b[0m m, n \u001b[39m=\u001b[39m a\u001b[39m.\u001b[39mshape[\u001b[39m-\u001b[39m\u001b[39m2\u001b[39m:]\n\u001b[0;32m    922\u001b[0m t, result_t \u001b[39m=\u001b[39m _commonType(a)\n\u001b[1;32m--> 923\u001b[0m a \u001b[39m=\u001b[39m a\u001b[39m.\u001b[39;49mastype(t, copy\u001b[39m=\u001b[39;49m\u001b[39mTrue\u001b[39;49;00m)\n\u001b[0;32m    924\u001b[0m a \u001b[39m=\u001b[39m _to_native_byte_order(a)\n\u001b[0;32m    925\u001b[0m mn \u001b[39m=\u001b[39m \u001b[39mmin\u001b[39m(m, n)\n",
      "\u001b[1;31mKeyboardInterrupt\u001b[0m: "
     ]
    }
   ],
   "source": [
    "A = np.random.random((5, 5))\n",
    "A = A.astype(complex)\n",
    "H = shifted_QR(A)\n",
    "print_matrix(H)"
   ]
  }
 ],
 "metadata": {
  "kernelspec": {
   "display_name": "Python 3.10.7 64-bit",
   "language": "python",
   "name": "python3"
  },
  "language_info": {
   "codemirror_mode": {
    "name": "ipython",
    "version": 3
   },
   "file_extension": ".py",
   "mimetype": "text/x-python",
   "name": "python",
   "nbconvert_exporter": "python",
   "pygments_lexer": "ipython3",
   "version": "3.10.7"
  },
  "orig_nbformat": 4,
  "vscode": {
   "interpreter": {
    "hash": "5631ed1244acc908bdcc521c1152625356df314a59e330ff21c3c3488890eb87"
   }
  }
 },
 "nbformat": 4,
 "nbformat_minor": 2
}
