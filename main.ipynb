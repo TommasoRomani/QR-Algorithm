{
 "cells": [
  {
   "cell_type": "markdown",
   "metadata": {},
   "source": [
    "# QR Algorithm\n",
    "\n",
    "Ci sono delle proprietà:\n",
    "\n",
    "- Dato che gli eigenvalue di una matrice tirangolare sono gli elementi sulla diagonale, questo algoritmo permette di trovarli.\n",
    "- Similarity transformation preserva gli eigenvalue.\n",
    "\n",
    "La matrice A viene **decomposta** in A = QR dove Q è ortogonale e R è triangolare superiore."
   ]
  },
  {
   "cell_type": "code",
   "execution_count": 3,
   "metadata": {},
   "outputs": [],
   "source": [
    "import numpy as np\n",
    "from itertools import product\n",
    "from math import copysign, hypot, sqrt\n",
    "\n",
    "\n",
    "def print_matrix(matrix):\n",
    "    s = [[str(e) for e in row] for row in matrix]\n",
    "    lens = [max(map(len, col)) for col in zip(*s)]\n",
    "    fmt = '\\t'.join('{{:{}}}'.format(x) for x in lens)\n",
    "    table = [fmt.format(*row) for row in s]\n",
    "    print('\\n'.join(table))\n",
    "    return"
   ]
  },
  {
   "cell_type": "markdown",
   "metadata": {},
   "source": [
    "## Gram-Schmidt\n",
    "Come prima implementazione proviamo con l'algoritmo di **Gram-Schmidt**\n"
   ]
  },
  {
   "cell_type": "code",
   "execution_count": null,
   "metadata": {},
   "outputs": [],
   "source": [
    "def qr_decomp_gram_schmidt(A):\n",
    "    m, n = A.shape\n",
    "    rank = np.linalg.matrix_rank(A)\n",
    "\n",
    "    if rank < n:\n",
    "        print(f\"Il rango della matrice è {rank} il quale è inferiore del numero delle colonne {n}!\")\n",
    "    \n",
    "    Q = np.zeros((m, n))\n",
    "    \n",
    "    for i, column in enumerate(A.T):\n",
    "        Q[:,i] = column\n",
    "\n",
    "        for prev in Q.T[:i]:\n",
    "            Q[:,i] -= (prev @ column) / (prev @ prev) * prev\n",
    "    \n",
    "    Q /= np.linalg.norm(Q,axis=0)\n",
    "    R = Q.T @ A\n",
    "\n",
    "    return Q, R"
   ]
  },
  {
   "cell_type": "code",
   "execution_count": null,
   "metadata": {},
   "outputs": [],
   "source": [
    "# Tests\n",
    "\n",
    "#TODO: rendere i test non dipendenti da una sola funzione\n",
    "\n",
    "def test_orthonormality(A):\n",
    "    Q, _ = qr_decomp_gram_schmidt(A)\n",
    "    I = Q.T @ Q\n",
    "\n",
    "    assert len(set(I.shape)) == 1, \"L'identità computata deve essere una matrice quadrata!\"\n",
    "    assert np.allclose(I, np.eye(I.shape[0])), \"L'identità  computata deve essere una matrice identità!\"\n",
    "\n",
    "def test_upper_triangular(A):\n",
    "    _, R = qr_decomp_gram_schmidt(A)\n",
    "\n",
    "    assert len(set(R.shape)) == 1, \"La matrice triangolare superiore computata dovrebbe essere una matrice quadrata!\"\n",
    "\n",
    "    for i, row in enumerate(R):\n",
    "        assert np.allclose(row[:i], 0), f\"La riga {i} della matrice triangolare superiore calcolata non è giusta!\"\n",
    "\n",
    "def test_multiplication(A):\n",
    "    Q,R = qr_decomp_gram_schmidt(A)\n",
    "    \n",
    "    assert np.allclose(Q @ R, A), \"La moltiplicazione fra le matrici ottenute non restituisce la matrice originaria!\""
   ]
  },
  {
   "cell_type": "code",
   "execution_count": null,
   "metadata": {},
   "outputs": [],
   "source": [
    "test_matricies = (\n",
    "    np.random.random((2, 2)),\n",
    "    np.random.random((5, 2)),\n",
    "    np.random.random((5, 5)),\n",
    "    np.random.random((9, 8)),\n",
    ")\n",
    "\n",
    "tests = (\n",
    "    test_orthonormality,\n",
    "    test_upper_triangular,\n",
    "    test_multiplication,\n",
    ")\n",
    "\n",
    "for test, matrix in product(tests, test_matricies):\n",
    "    test(matrix)\n",
    "\n",
    "print(\"tutti i test sono superati\")"
   ]
  },
  {
   "cell_type": "markdown",
   "metadata": {},
   "source": [
    "# Givens Rotation\n",
    "proviamo ad implementare le givens rotation per migliorare la velocità di esecuzione."
   ]
  },
  {
   "cell_type": "code",
   "execution_count": null,
   "metadata": {},
   "outputs": [],
   "source": [
    "def qr_decomp_givens_rotation(A):\n",
    "\n",
    "    (num_rows, num_cols) = np.shape(A)\n",
    "    if num_rows == num_cols: \n",
    "        # Initialize Q,R\n",
    "        # Q = orthogonal matrix\n",
    "        # R =  upper triangular matrix\n",
    "        Q = np.identity(num_rows)\n",
    "        R = np.copy(A)\n",
    "\n",
    "        # Iterate over lower triangular matrix.\n",
    "        (rows, cols) = np.tril_indices(num_rows, -1, num_cols)\n",
    "        #print(rows, cols)\n",
    "        for (row, col) in zip(rows, cols):\n",
    "\n",
    "            # Compute Givens rotation matrix and\n",
    "            # zero-out lower triangular matrix entries.\n",
    "            if R[row, col] != 0:\n",
    "                (c, s) = Givens_Rotation_Matrix_Entries(R[col, col], R[row, col])\n",
    "\n",
    "                G = np.identity(num_rows)\n",
    "                G[[col, row], [col, row]] = c\n",
    "                G[row, col] = s\n",
    "                G[col, row] = -s\n",
    "\n",
    "                R = np.dot(G, R)\n",
    "                Q = np.dot(Q, G.T)\n",
    "                #R = G @ R\n",
    "                #Q = Q @ G.T\n",
    "        return Q, R\n",
    "    else:\n",
    "        Q = np.eye(num_rows)\n",
    "        R = np.copy(A)\n",
    "\n",
    "        rows, cols = np.tril_indices(num_rows, -1, num_cols)\n",
    "        for (row, col) in zip(rows, cols):\n",
    "            # If the subdiagonal element is nonzero, then compute the nonzero \n",
    "            # components of the rotation matrix\n",
    "            if R[row, col] != 0:\n",
    "                r = np.sqrt(R[col, col]**2 + R[row, col]**2)\n",
    "                c, s = R[col, col]/r, -R[row, col]/r\n",
    "\n",
    "                # The rotation matrix is highly discharged, so it makes no sense \n",
    "                # to calculate the total matrix product\n",
    "                R[col], R[row] = R[col]*c + R[row]*(-s), R[col]*s + R[row]*c\n",
    "                Q[:, col], Q[:, row] = Q[:, col]*c + Q[:, row]*(-s), Q[:, col]*s + Q[:, row]*c\n",
    "\n",
    "        return Q[:, :num_cols], R[:num_cols]\n",
    "\n",
    "\n",
    "\n",
    "##### Compute matrix entries for Givens rotation. #####\n",
    "\n",
    "def Givens_Rotation_Matrix_Entries(a, b):\n",
    "    r = hypot(a, b)\n",
    "    c = a/r\n",
    "    s = -b/r\n",
    "\n",
    "    return (c, s)"
   ]
  },
  {
   "cell_type": "code",
   "execution_count": null,
   "metadata": {},
   "outputs": [],
   "source": [
    "def test_orthonormality(A):\n",
    "    Q, _ = qr_decomp_givens_rotation(A)\n",
    "    I = Q.T @ Q\n",
    "\n",
    "    assert len(set(I.shape)) == 1, \"L'identità computata deve essere una matrice quadrata!\"\n",
    "    assert np.allclose(I, np.eye(I.shape[0])), \"L'identità  computata deve essere una matrice identità!\"\n",
    "\n",
    "def test_upper_triangular(A):\n",
    "    _, R = qr_decomp_givens_rotation(A)\n",
    "\n",
    "    assert len(set(R.shape)) == 1, \"La matrice triangolare superiore computata dovrebbe essere una matrice quadrata!\"\n",
    "\n",
    "    for i, row in enumerate(R):\n",
    "        assert np.allclose(row[:i], 0), f\"La riga {i} della matrice triangolare superiore calcolata non è giusta!\"\n",
    "\n",
    "def test_multiplication(A):\n",
    "    Q, R = qr_decomp_givens_rotation(A)\n",
    "    \n",
    "    assert np.allclose(Q @ R, A), \"La moltiplicazione fra le matrici ottenute non restituisce la matrice originaria!\""
   ]
  },
  {
   "cell_type": "code",
   "execution_count": null,
   "metadata": {},
   "outputs": [],
   "source": [
    "test_matricies = (\n",
    "    np.random.random((3, 3)),\n",
    "    np.random.random((4, 5)),\n",
    "    np.random.random((5, 5)),\n",
    "    np.random.random((9, 8)),\n",
    ")\n",
    "\n",
    "tests = (\n",
    "    test_orthonormality,\n",
    "    test_multiplication,\n",
    ")\n",
    "\n",
    "for test, matrix in product(tests, test_matricies):\n",
    "    test(matrix)\n",
    "\n",
    "print(\"tutti i test sono superati\")"
   ]
  },
  {
   "cell_type": "code",
   "execution_count": null,
   "metadata": {},
   "outputs": [],
   "source": [
    "A = np.random.random((4, 4))\n",
    "\n",
    "Q, R = qr_decomp_givens_rotation(A)\n",
    "\n",
    "print(A)\n",
    "print(Q)\n",
    "print(R)\n",
    "\n",
    "print(Q @ R)"
   ]
  },
  {
   "attachments": {},
   "cell_type": "markdown",
   "metadata": {},
   "source": [
    "# Shifted QR Algorithm\n",
    "\n",
    "Questo approccio ci consente di ridurre considerevolmente il tempo di esecuzione dell'algoritmo QR, ma per poterlo utilizzare è necessario ridurre la matrice di partenza in forma di Hessenberg"
   ]
  },
  {
   "attachments": {},
   "cell_type": "markdown",
   "metadata": {},
   "source": [
    "## Riduzione in forma di Hessenberg\n",
    "Per ridurre la matrice di partenza A in forma di Hessenberg utilizzeremo le Givens Rotation, per azzerare gli elementi sotto la prima sottodiagonale.\n",
    "Iteriamo lungo le colonne a partire dall'ultimo elemento, così da poter scegliere come pivot l'elemento immediatamente sopra."
   ]
  },
  {
   "cell_type": "code",
   "execution_count": 137,
   "metadata": {},
   "outputs": [],
   "source": [
    "# TODO da controllare se funziona per matrici non quadrate, e in caso implementare una versione funzionante.\n",
    "\n",
    "def Givens_Rotation_Matrix_Entries(a, b):\n",
    "    r = hypot(a, b)\n",
    "    c = a/r\n",
    "    s = b/r    \n",
    "    return c.astype(complex), s.astype(complex)\n",
    "\n",
    "def Hessenberg_reduction(A):\n",
    "    # mi trovo gli indici della sottodiagonale corrispondente agli elementi da azzerare\n",
    "    (num_rows, num_cols) = np.shape(A)\n",
    "    # Q ci serve per calcolarci la forma di Schur\n",
    "    Q = np.identity(num_rows)\n",
    "    Q.astype(complex)\n",
    "    #itero sugli indici appena trovati \n",
    "    for col in range(num_cols-2):\n",
    "        for row in reversed(range(2+col,num_cols)):\n",
    "            # trova gli indici della matrice di givens unando come pivot [col, col](sempre != 0)\n",
    "            c, s = Givens_Rotation_Matrix_Entries(A[row-1, col], A[row, col])\n",
    "            #si costruisce la matrice di givens partendo dall'identità\n",
    "            G = np.identity(num_rows)\n",
    "            G.astype(complex)\n",
    "            #assegna gli indici trovati precedentemente alla matrice di givens\n",
    "            G[row-1, row-1] = c\n",
    "            G[row, row] = c\n",
    "            G[row, row-1] = -s\n",
    "            G[row-1, row] = s\n",
    "            # annichilisce l'elemento in posizione A[row, col]\n",
    "            A = np.dot(G,A)\n",
    "            Q = np.dot(Q, G.T)\n",
    "\n",
    "    return A, Q"
   ]
  },
  {
   "cell_type": "code",
   "execution_count": 9,
   "metadata": {},
   "outputs": [
    {
     "name": "stdout",
     "output_type": "stream",
     "text": [
      "0.8168909564405686     \t0.7318280307193928     \t0.9386615793528416     \t0.678916925485609     \t0.8581252290789727    \t0.7672068513251721     \t0.0255518945888652 \t0.12201551552717094 \n",
      "1.2367108616570899     \t1.2116713450294945     \t0.7519014384800832     \t1.3624561178865666    \t1.2426457192236942    \t1.4390966852650604     \t0.8188141331458173 \t1.150232152770037   \n",
      "3.4660535367960294e-17 \t1.023259403726648      \t0.20574808604594536    \t0.21882405216794584   \t0.29212779000719863   \t0.6542372144542663     \t0.4349099846615021 \t0.34295878214957504 \n",
      "2.5874069259601356e-17 \t-2.6416855723989436e-17\t0.5447237064451343     \t0.15658546611369795   \t0.5860251714907346    \t0.4399400728792093     \t0.6290116294962129 \t0.19089312485011098 \n",
      "-1.316203658182628e-17 \t5.19819791962338e-18   \t3.7873195336259453e-20 \t0.47526802004383284   \t0.60017653494278      \t0.4722683251325442     \t0.13599040994568548\t0.13813946349196632 \n",
      "-2.7049777034544792e-17\t-3.055642893821751e-17 \t8.103813365343122e-18  \t7.33483809509274e-18  \t0.3951777923447281    \t0.029497927489594546   \t-0.1667701891813376\t-0.09064527188262367\n",
      "5.000371295690873e-17  \t-2.9386468841110485e-17\t-1.439252209880169e-17 \t-5.573415580522838e-18\t3.764459738557391e-18 \t0.37768030170462263    \t-0.56207605420341  \t0.5010937002484275  \n",
      "-2.609682535251299e-17 \t2.5822143154326963e-17 \t-3.0822849154469504e-19\t1.6258867028061143e-17\t5.6574354894642835e-18\t-1.2692603529122973e-17\t-0.0786460362437789\t0.055896504741201634\n"
     ]
    }
   ],
   "source": [
    "A = np.random.random((8, 8))\n",
    "(A, Q) = Hessenberg_reduction(A)\n",
    "print_matrix(A)"
   ]
  },
  {
   "attachments": {},
   "cell_type": "markdown",
   "metadata": {},
   "source": [
    "## Shifted QR\n",
    "Ora che abbiamo una matrice in forma di Hessenberg possiamo passare all'implementazione dello Shifted QR algorithm, l'aumento di velocità dipende dal fatto che, se si parte da una matrice in forma di Hessenberg allora sono necessarie solo O(n^2) operazioni.\n",
    "\n",
    "In particolare noi utilizzeremo una single shift strategy con i Rayleigh quotient shift"
   ]
  },
  {
   "cell_type": "code",
   "execution_count": 154,
   "metadata": {},
   "outputs": [],
   "source": [
    "def shifted_QR(A):\n",
    "    H, _ = Hessenberg_reduction(A)\n",
    "    H.astype(complex)\n",
    "    (num_rows, num_cols) = np.shape(H)\n",
    "   \n",
    "    #U = np.eye(num_rows)\n",
    "    for m in range(num_rows-1, 2, -1):\n",
    "        while (H[m,m-1] > 1.e-30):\n",
    "            #print(\"Primo H[m,m]\", H[m,m])\n",
    "            #print(\"Prima\")\n",
    "            #print_matrix((H[m,m] * np.eye(num_rows)))\n",
    "            #print(\"Dopo\")\n",
    "            #print_matrix((H - (H[m,m] * np.eye(num_rows))))\n",
    "            #return\n",
    "            Q, R = np.linalg.qr(H - (H[m,m] * np.eye(num_rows)))\n",
    "            H = (R @ Q) + (H[m,m] * np.eye(num_rows))\n",
    "            #U = U @ Q\n",
    "            #print(\"Secondo H[m,m]\", H[m,m])\n",
    "    #return H, U\n",
    "    return H"
   ]
  },
  {
   "cell_type": "code",
   "execution_count": 164,
   "metadata": {},
   "outputs": [
    {
     "name": "stdout",
     "output_type": "stream",
     "text": [
      "(2.3285102564094955+0j)    \t(-0.4180674056830747+0j)    \t(1.1449222985749807+0j)     \t(1.2823976256737648+0j)  \t(0.3537597911453401+0j)  \n",
      "(-0.036043060206582024+0j) \t(-0.7445925075486449+0j)    \t(-0.024456920733666062+0j)  \t(0.2300592794927976+0j)  \t(-0.0876096285728312+0j) \n",
      "(6.914884285654394e-20+0j) \t(-0.07135923311481643+0j)   \t(0.7075085815083706+0j)     \t(-0.21253474088739793+0j)\t(-0.37722928174778475+0j)\n",
      "(-9.008340872233941e-23+0j)\t(-1.7086392679762232e-21+0j)\t(-0.00019246860262163082+0j)\t(0.17050587488225627+0j) \t(0.08106495208094557+0j) \n",
      "(-5.949558075457681e-23+0j)\t(-1.1294011928344133e-21+0j)\t(3.9584318332761753e-20+0j) \t(-0.19135598110937682+0j)\t(0.3600017514736135+0j)  \n"
     ]
    },
    {
     "name": "stderr",
     "output_type": "stream",
     "text": [
      "C:\\Users\\tomma\\AppData\\Local\\Temp\\ipykernel_11664\\1503993989.py:4: ComplexWarning: Casting complex values to real discards the imaginary part\n",
      "  r = hypot(a, b)\n",
      "C:\\Users\\tomma\\AppData\\Local\\Temp\\ipykernel_11664\\1503993989.py:24: ComplexWarning: Casting complex values to real discards the imaginary part\n",
      "  G[row-1, row-1] = c\n",
      "C:\\Users\\tomma\\AppData\\Local\\Temp\\ipykernel_11664\\1503993989.py:25: ComplexWarning: Casting complex values to real discards the imaginary part\n",
      "  G[row, row] = c\n",
      "C:\\Users\\tomma\\AppData\\Local\\Temp\\ipykernel_11664\\1503993989.py:26: ComplexWarning: Casting complex values to real discards the imaginary part\n",
      "  G[row, row-1] = -s\n",
      "C:\\Users\\tomma\\AppData\\Local\\Temp\\ipykernel_11664\\1503993989.py:27: ComplexWarning: Casting complex values to real discards the imaginary part\n",
      "  G[row-1, row] = s\n"
     ]
    }
   ],
   "source": [
    "A = np.random.random((5, 5))\n",
    "A = A.astype(complex)\n",
    "H = shifted_QR(A)\n",
    "print_matrix(H)"
   ]
  }
 ],
 "metadata": {
  "kernelspec": {
   "display_name": "Python 3.10.7 64-bit",
   "language": "python",
   "name": "python3"
  },
  "language_info": {
   "codemirror_mode": {
    "name": "ipython",
    "version": 3
   },
   "file_extension": ".py",
   "mimetype": "text/x-python",
   "name": "python",
   "nbconvert_exporter": "python",
   "pygments_lexer": "ipython3",
   "version": "3.10.7"
  },
  "orig_nbformat": 4,
  "vscode": {
   "interpreter": {
    "hash": "5631ed1244acc908bdcc521c1152625356df314a59e330ff21c3c3488890eb87"
   }
  }
 },
 "nbformat": 4,
 "nbformat_minor": 2
}
