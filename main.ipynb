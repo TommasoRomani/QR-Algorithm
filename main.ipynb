{
 "cells": [
  {
   "cell_type": "markdown",
   "metadata": {},
   "source": [
    "# QR Algorithm\n",
    "\n",
    "Ci sono delle proprietà:\n",
    "\n",
    "- Dato che gli eigenvalue di una matrice tirangolare sono gli elementi sulla diagonale, questo algoritmo permette di trovarli.\n",
    "- Similarity transformation preserva gli eigenvalue.\n",
    "\n",
    "La matrice A viene **decomposta** in A = QR dove Q è ortogonale e R è triangolare superiore."
   ]
  },
  {
   "cell_type": "markdown",
   "metadata": {},
   "source": [
    "## Gram-Schmidt\n",
    "Come prima implementazione proviamo con l'algoritmo di **Gram-Schmidt**\n"
   ]
  },
  {
   "cell_type": "code",
   "execution_count": 16,
   "metadata": {},
   "outputs": [],
   "source": [
    "import numpy as np\n",
    "from itertools import product\n",
    "from math import copysign, hypot\n",
    "\n"
   ]
  },
  {
   "cell_type": "code",
   "execution_count": 12,
   "metadata": {},
   "outputs": [],
   "source": [
    "def qr_decomp_gram_schmidt(A):\n",
    "    m, n = A.shape\n",
    "    rank = np.linalg.matrix_rank(A)\n",
    "\n",
    "    if rank < n:\n",
    "        print(f\"Il rango della matrice è {rank} il quale è inferiore del numero delle colonne {n}!\")\n",
    "    \n",
    "    Q = np.zeros((m, n))\n",
    "    \n",
    "    for i, column in enumerate(A.T):\n",
    "        Q[:,i] = column\n",
    "\n",
    "        for prev in Q.T[:i]:\n",
    "            Q[:,i] -= (prev @ column) / (prev @ prev) * prev\n",
    "    \n",
    "    Q /= np.linalg.norm(Q,axis=0)\n",
    "    R = Q.T @ A\n",
    "\n",
    "    return Q, R"
   ]
  },
  {
   "cell_type": "code",
   "execution_count": 13,
   "metadata": {},
   "outputs": [],
   "source": [
    "# Tests\n",
    "\n",
    "#TODO: rendere i test non dipendenti da una sola funzione\n",
    "\n",
    "def test_orthonormality(A):\n",
    "    Q, _ = qr_decomp_gram_schmidt(A)\n",
    "    I = Q.T @ Q\n",
    "\n",
    "    assert len(set(I.shape)) == 1, \"L'identità computata deve essere una matrice quadrata!\"\n",
    "    assert np.allclose(I, np.eye(I.shape[0])), \"L'identità  computata deve essere una matrice identità!\"\n",
    "\n",
    "def test_upper_triangular(A):\n",
    "    _, R = qr_decomp_gram_schmidt(A)\n",
    "\n",
    "    assert len(set(R.shape)) == 1, \"La matrice triangolare superiore computata dovrebbe essere una matrice quadrata!\"\n",
    "\n",
    "    for i, row in enumerate(R):\n",
    "        assert np.allclose(row[:i], 0), f\"La riga {i} della matrice triangolare superiore calcolata non è giusta!\"\n",
    "\n",
    "def test_multiplication(A):\n",
    "    Q,R = qr_decomp_gram_schmidt(A)\n",
    "    \n",
    "    assert np.allclose(Q @ R, A), \"La moltiplicazione fra le matrici ottenute non restituisce la matrice originaria!\""
   ]
  },
  {
   "cell_type": "code",
   "execution_count": 14,
   "metadata": {},
   "outputs": [
    {
     "name": "stdout",
     "output_type": "stream",
     "text": [
      "tutti i test sono superati\n"
     ]
    }
   ],
   "source": [
    "test_matricies = (\n",
    "    np.random.random((2, 2)),\n",
    "    np.random.random((5, 2)),\n",
    "    np.random.random((5, 5)),\n",
    "    np.random.random((9, 8)),\n",
    ")\n",
    "\n",
    "tests = (\n",
    "    test_orthonormality,\n",
    "    test_upper_triangular,\n",
    "    test_multiplication,\n",
    ")\n",
    "\n",
    "for test, matrix in product(tests, test_matricies):\n",
    "    test(matrix)\n",
    "\n",
    "print(\"tutti i test sono superati\")"
   ]
  },
  {
   "cell_type": "markdown",
   "metadata": {},
   "source": [
    "# Givens Rotation\n",
    "proviamo ad implementare le givens rotation per migliorare la velocità di esecuzione."
   ]
  },
  {
   "cell_type": "code",
   "execution_count": 22,
   "metadata": {},
   "outputs": [],
   "source": [
    "def qr_decomp_givens_rotation(A):\n",
    "\n",
    "    (num_rows, num_cols) = np.shape(A)\n",
    "    if num_rows == num_cols: \n",
    "        # Initialize Q,R\n",
    "        # Q = orthogonal matrix\n",
    "        # R =  upper triangular matrix\n",
    "        Q = np.identity(num_rows)\n",
    "        R = np.copy(A)\n",
    "\n",
    "        # Iterate over lower triangular matrix.\n",
    "        (rows, cols) = np.tril_indices(num_rows, -1, num_cols)\n",
    "        #print(rows, cols)\n",
    "        for (row, col) in zip(rows, cols):\n",
    "\n",
    "            # Compute Givens rotation matrix and\n",
    "            # zero-out lower triangular matrix entries.\n",
    "            if R[row, col] != 0:\n",
    "                (c, s) = Givens_Rotation_Matrix_Entries(R[col, col], R[row, col])\n",
    "\n",
    "                G = np.identity(num_rows)\n",
    "                G[[col, row], [col, row]] = c\n",
    "                G[row, col] = s\n",
    "                G[col, row] = -s\n",
    "\n",
    "                R = np.dot(G, R)\n",
    "                Q = np.dot(Q, G.T)\n",
    "                #R = G @ R\n",
    "                #Q = Q @ G.T\n",
    "        return Q, R\n",
    "    else:\n",
    "        Q = np.eye(num_rows)\n",
    "        R = np.copy(A)\n",
    "\n",
    "        rows, cols = np.tril_indices(num_rows, -1, num_cols)\n",
    "        for (row, col) in zip(rows, cols):\n",
    "            # If the subdiagonal element is nonzero, then compute the nonzero \n",
    "            # components of the rotation matrix\n",
    "            if R[row, col] != 0:\n",
    "                r = np.sqrt(R[col, col]**2 + R[row, col]**2)\n",
    "                c, s = R[col, col]/r, -R[row, col]/r\n",
    "\n",
    "                # The rotation matrix is highly discharged, so it makes no sense \n",
    "                # to calculate the total matrix product\n",
    "                R[col], R[row] = R[col]*c + R[row]*(-s), R[col]*s + R[row]*c\n",
    "                Q[:, col], Q[:, row] = Q[:, col]*c + Q[:, row]*(-s), Q[:, col]*s + Q[:, row]*c\n",
    "\n",
    "        return Q[:, :num_cols], R[:num_cols]\n",
    "\n",
    "\n",
    "\n",
    "##### Compute matrix entries for Givens rotation. #####\n",
    "\n",
    "def Givens_Rotation_Matrix_Entries(a, b):\n",
    "    r = hypot(a, b)\n",
    "    c = a/r\n",
    "    s = -b/r\n",
    "\n",
    "    return (c, s)"
   ]
  },
  {
   "cell_type": "code",
   "execution_count": 23,
   "metadata": {},
   "outputs": [],
   "source": [
    "def test_orthonormality(A):\n",
    "    Q, _ = qr_decomp_givens_rotation(A)\n",
    "    I = Q.T @ Q\n",
    "\n",
    "    assert len(set(I.shape)) == 1, \"L'identità computata deve essere una matrice quadrata!\"\n",
    "    assert np.allclose(I, np.eye(I.shape[0])), \"L'identità  computata deve essere una matrice identità!\"\n",
    "\n",
    "def test_upper_triangular(A):\n",
    "    _, R = qr_decomp_givens_rotation(A)\n",
    "\n",
    "    assert len(set(R.shape)) == 1, \"La matrice triangolare superiore computata dovrebbe essere una matrice quadrata!\"\n",
    "\n",
    "    for i, row in enumerate(R):\n",
    "        assert np.allclose(row[:i], 0), f\"La riga {i} della matrice triangolare superiore calcolata non è giusta!\"\n",
    "\n",
    "def test_multiplication(A):\n",
    "    Q, R = qr_decomp_givens_rotation(A)\n",
    "    \n",
    "    assert np.allclose(Q @ R, A), \"La moltiplicazione fra le matrici ottenute non restituisce la matrice originaria!\""
   ]
  },
  {
   "cell_type": "code",
   "execution_count": 29,
   "metadata": {},
   "outputs": [
    {
     "name": "stdout",
     "output_type": "stream",
     "text": [
      "tutti i test sono superati\n"
     ]
    }
   ],
   "source": [
    "test_matricies = (\n",
    "    np.random.random((3, 3)),\n",
    "    np.random.random((4, 5)),\n",
    "    np.random.random((5, 5)),\n",
    "    np.random.random((9, 8)),\n",
    ")\n",
    "\n",
    "tests = (\n",
    "    test_orthonormality,\n",
    "    test_multiplication,\n",
    ")\n",
    "\n",
    "for test, matrix in product(tests, test_matricies):\n",
    "    test(matrix)\n",
    "\n",
    "print(\"tutti i test sono superati\")"
   ]
  },
  {
   "cell_type": "code",
   "execution_count": 27,
   "metadata": {},
   "outputs": [
    {
     "name": "stdout",
     "output_type": "stream",
     "text": [
      "[[0.35017775 0.93848075 0.16708714 0.02033739]\n",
      " [0.91653041 0.38546321 0.71378994 0.29711919]\n",
      " [0.56154242 0.9004278  0.09630576 0.11294642]\n",
      " [0.18937849 0.19613426 0.14601127 0.42272211]]\n",
      "[[ 0.30550353  0.71297018  0.60257606 -0.18773172]\n",
      " [ 0.79960326 -0.54617603  0.19061298 -0.16122363]\n",
      " [ 0.48990317  0.4391397  -0.75115862  0.05396237]\n",
      " [ 0.16521836  0.02283828  0.19060299  0.96739434]]\n",
      "[[ 1.14623146e+00  1.06845423e+00  6.93098715e-01  3.68964881e-01]\n",
      " [ 1.65483215e-17  8.58470982e-01 -2.25100477e-01 -8.85259237e-02]\n",
      " [ 6.63161982e-18 -2.39492889e-17  1.92229625e-01  6.46210192e-02]\n",
      " [ 2.37833226e-17  6.07842044e-18  2.70775298e-18  3.63313227e-01]]\n",
      "[[0.35017775 0.93848075 0.16708714 0.02033739]\n",
      " [0.91653041 0.38546321 0.71378994 0.29711919]\n",
      " [0.56154242 0.9004278  0.09630576 0.11294642]\n",
      " [0.18937849 0.19613426 0.14601127 0.42272211]]\n"
     ]
    }
   ],
   "source": [
    "A = np.random.random((4, 4))\n",
    "\n",
    "Q, R = qr_decomp_givens_rotation(A)\n",
    "\n",
    "print(A)\n",
    "print(Q)\n",
    "print(R)\n",
    "\n",
    "print(Q @ R)"
   ]
  }
 ],
 "metadata": {
  "kernelspec": {
   "display_name": "Python 3.10.7 64-bit",
   "language": "python",
   "name": "python3"
  },
  "language_info": {
   "codemirror_mode": {
    "name": "ipython",
    "version": 3
   },
   "file_extension": ".py",
   "mimetype": "text/x-python",
   "name": "python",
   "nbconvert_exporter": "python",
   "pygments_lexer": "ipython3",
   "version": "3.10.7"
  },
  "orig_nbformat": 4,
  "vscode": {
   "interpreter": {
    "hash": "5631ed1244acc908bdcc521c1152625356df314a59e330ff21c3c3488890eb87"
   }
  }
 },
 "nbformat": 4,
 "nbformat_minor": 2
}
