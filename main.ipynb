{
 "cells": [
  {
   "cell_type": "markdown",
   "metadata": {},
   "source": [
    "# QR Algorithm\n",
    "\n",
    "Ci sono delle proprietà:\n",
    "\n",
    "- Dato che gli eigenvalue di una matrice tirangolare sono gli elementi sulla diagonale, questo algoritmo permette di trovarli.\n",
    "- Similarity transformation preserva gli eigenvalue.\n",
    "\n",
    "La matrice A viene **decomposta** in A = QR dove Q è ortogonale e R è triangolare superiore."
   ]
  },
  {
   "cell_type": "code",
   "execution_count": 2,
   "metadata": {},
   "outputs": [],
   "source": [
    "import numpy as np\n",
    "from itertools import product\n",
    "from math import copysign, hypot, sqrt\n",
    "\n",
    "\n",
    "def print_matrix(matrix):\n",
    "    s = [[str(e) for e in row] for row in matrix]\n",
    "    lens = [max(map(len, col)) for col in zip(*s)]\n",
    "    fmt = '\\t'.join('{{:{}}}'.format(x) for x in lens)\n",
    "    table = [fmt.format(*row) for row in s]\n",
    "    print('\\n'.join(table))\n",
    "    return"
   ]
  },
  {
   "cell_type": "markdown",
   "metadata": {},
   "source": [
    "## Gram-Schmidt\n",
    "Come prima implementazione proviamo con l'algoritmo di **Gram-Schmidt**\n"
   ]
  },
  {
   "cell_type": "code",
   "execution_count": null,
   "metadata": {},
   "outputs": [],
   "source": [
    "def qr_decomp_gram_schmidt(A):\n",
    "    m, n = A.shape\n",
    "    rank = np.linalg.matrix_rank(A)\n",
    "\n",
    "    if rank < n:\n",
    "        print(f\"Il rango della matrice è {rank} il quale è inferiore del numero delle colonne {n}!\")\n",
    "    \n",
    "    Q = np.zeros((m, n))\n",
    "    \n",
    "    for i, column in enumerate(A.T):\n",
    "        Q[:,i] = column\n",
    "\n",
    "        for prev in Q.T[:i]:\n",
    "            Q[:,i] -= (prev @ column) / (prev @ prev) * prev\n",
    "    \n",
    "    Q /= np.linalg.norm(Q,axis=0)\n",
    "    R = Q.T @ A\n",
    "\n",
    "    return Q, R"
   ]
  },
  {
   "cell_type": "code",
   "execution_count": null,
   "metadata": {},
   "outputs": [],
   "source": [
    "# Tests\n",
    "\n",
    "#TODO: rendere i test non dipendenti da una sola funzione\n",
    "\n",
    "def test_orthonormality(A):\n",
    "    Q, _ = qr_decomp_gram_schmidt(A)\n",
    "    I = Q.T @ Q\n",
    "\n",
    "    assert len(set(I.shape)) == 1, \"L'identità computata deve essere una matrice quadrata!\"\n",
    "    assert np.allclose(I, np.eye(I.shape[0])), \"L'identità  computata deve essere una matrice identità!\"\n",
    "\n",
    "def test_upper_triangular(A):\n",
    "    _, R = qr_decomp_gram_schmidt(A)\n",
    "\n",
    "    assert len(set(R.shape)) == 1, \"La matrice triangolare superiore computata dovrebbe essere una matrice quadrata!\"\n",
    "\n",
    "    for i, row in enumerate(R):\n",
    "        assert np.allclose(row[:i], 0), f\"La riga {i} della matrice triangolare superiore calcolata non è giusta!\"\n",
    "\n",
    "def test_multiplication(A):\n",
    "    Q,R = qr_decomp_gram_schmidt(A)\n",
    "    \n",
    "    assert np.allclose(Q @ R, A), \"La moltiplicazione fra le matrici ottenute non restituisce la matrice originaria!\""
   ]
  },
  {
   "cell_type": "code",
   "execution_count": null,
   "metadata": {},
   "outputs": [],
   "source": [
    "test_matricies = (\n",
    "    np.random.random((2, 2)),\n",
    "    np.random.random((5, 2)),\n",
    "    np.random.random((5, 5)),\n",
    "    np.random.random((9, 8)),\n",
    ")\n",
    "\n",
    "tests = (\n",
    "    test_orthonormality,\n",
    "    test_upper_triangular,\n",
    "    test_multiplication,\n",
    ")\n",
    "\n",
    "for test, matrix in product(tests, test_matricies):\n",
    "    test(matrix)\n",
    "\n",
    "print(\"tutti i test sono superati\")"
   ]
  },
  {
   "cell_type": "markdown",
   "metadata": {},
   "source": [
    "# Givens Rotation\n",
    "proviamo ad implementare le givens rotation per migliorare la velocità di esecuzione."
   ]
  },
  {
   "cell_type": "code",
   "execution_count": null,
   "metadata": {},
   "outputs": [],
   "source": [
    "def qr_decomp_givens_rotation(A):\n",
    "\n",
    "    (num_rows, num_cols) = np.shape(A)\n",
    "    if num_rows == num_cols: \n",
    "        # Initialize Q,R\n",
    "        # Q = orthogonal matrix\n",
    "        # R =  upper triangular matrix\n",
    "        Q = np.identity(num_rows)\n",
    "        R = np.copy(A)\n",
    "\n",
    "        # Iterate over lower triangular matrix.\n",
    "        (rows, cols) = np.tril_indices(num_rows, -1, num_cols)\n",
    "        #print(rows, cols)\n",
    "        for (row, col) in zip(rows, cols):\n",
    "\n",
    "            # Compute Givens rotation matrix and\n",
    "            # zero-out lower triangular matrix entries.\n",
    "            if R[row, col] != 0:\n",
    "                (c, s) = Givens_Rotation_Matrix_Entries(R[col, col], R[row, col])\n",
    "\n",
    "                G = np.identity(num_rows)\n",
    "                G[[col, row], [col, row]] = c\n",
    "                G[row, col] = s\n",
    "                G[col, row] = -s\n",
    "\n",
    "                R = np.dot(G, R)\n",
    "                Q = np.dot(Q, G.T)\n",
    "                #R = G @ R\n",
    "                #Q = Q @ G.T\n",
    "        return Q, R\n",
    "    else:\n",
    "        Q = np.eye(num_rows)\n",
    "        R = np.copy(A)\n",
    "\n",
    "        rows, cols = np.tril_indices(num_rows, -1, num_cols)\n",
    "        for (row, col) in zip(rows, cols):\n",
    "            # If the subdiagonal element is nonzero, then compute the nonzero \n",
    "            # components of the rotation matrix\n",
    "            if R[row, col] != 0:\n",
    "                r = np.sqrt(R[col, col]**2 + R[row, col]**2)\n",
    "                c, s = R[col, col]/r, -R[row, col]/r\n",
    "\n",
    "                # The rotation matrix is highly discharged, so it makes no sense \n",
    "                # to calculate the total matrix product\n",
    "                R[col], R[row] = R[col]*c + R[row]*(-s), R[col]*s + R[row]*c\n",
    "                Q[:, col], Q[:, row] = Q[:, col]*c + Q[:, row]*(-s), Q[:, col]*s + Q[:, row]*c\n",
    "\n",
    "        return Q[:, :num_cols], R[:num_cols]\n",
    "\n",
    "\n",
    "\n",
    "##### Compute matrix entries for Givens rotation. #####\n",
    "\n",
    "def Givens_Rotation_Matrix_Entries(a, b):\n",
    "    r = hypot(a, b)\n",
    "    c = a/r\n",
    "    s = -b/r\n",
    "\n",
    "    return (c, s)"
   ]
  },
  {
   "cell_type": "code",
   "execution_count": null,
   "metadata": {},
   "outputs": [],
   "source": [
    "def test_orthonormality(A):\n",
    "    Q, _ = qr_decomp_givens_rotation(A)\n",
    "    I = Q.T @ Q\n",
    "\n",
    "    assert len(set(I.shape)) == 1, \"L'identità computata deve essere una matrice quadrata!\"\n",
    "    assert np.allclose(I, np.eye(I.shape[0])), \"L'identità  computata deve essere una matrice identità!\"\n",
    "\n",
    "def test_upper_triangular(A):\n",
    "    _, R = qr_decomp_givens_rotation(A)\n",
    "\n",
    "    assert len(set(R.shape)) == 1, \"La matrice triangolare superiore computata dovrebbe essere una matrice quadrata!\"\n",
    "\n",
    "    for i, row in enumerate(R):\n",
    "        assert np.allclose(row[:i], 0), f\"La riga {i} della matrice triangolare superiore calcolata non è giusta!\"\n",
    "\n",
    "def test_multiplication(A):\n",
    "    Q, R = qr_decomp_givens_rotation(A)\n",
    "    \n",
    "    assert np.allclose(Q @ R, A), \"La moltiplicazione fra le matrici ottenute non restituisce la matrice originaria!\""
   ]
  },
  {
   "cell_type": "code",
   "execution_count": null,
   "metadata": {},
   "outputs": [],
   "source": [
    "test_matricies = (\n",
    "    np.random.random((3, 3)),\n",
    "    np.random.random((4, 5)),\n",
    "    np.random.random((5, 5)),\n",
    "    np.random.random((9, 8)),\n",
    ")\n",
    "\n",
    "tests = (\n",
    "    test_orthonormality,\n",
    "    test_multiplication,\n",
    ")\n",
    "\n",
    "for test, matrix in product(tests, test_matricies):\n",
    "    test(matrix)\n",
    "\n",
    "print(\"tutti i test sono superati\")"
   ]
  },
  {
   "cell_type": "code",
   "execution_count": null,
   "metadata": {},
   "outputs": [],
   "source": [
    "A = np.random.random((4, 4))\n",
    "\n",
    "Q, R = qr_decomp_givens_rotation(A)\n",
    "\n",
    "print(A)\n",
    "print(Q)\n",
    "print(R)\n",
    "\n",
    "print(Q @ R)"
   ]
  },
  {
   "attachments": {},
   "cell_type": "markdown",
   "metadata": {},
   "source": [
    "# Shifted QR Algorithm\n",
    "\n",
    "Questo approccio ci consente di ridurre considerevolmente il tempo di esecuzione dell'algoritmo QR, ma per poterlo utilizzare è necessario ridurre la matrice di partenza in forma di Hessenberg"
   ]
  },
  {
   "attachments": {},
   "cell_type": "markdown",
   "metadata": {},
   "source": [
    "## Riduzione in forma di Hessenberg\n",
    "Per ridurre la matrice di partenza A in forma di Hessenberg utilizzeremo le Givens Rotation, per azzerare gli elementi sotto la prima sottodiagonale.\n",
    "Iteriamo lungo le colonne a partire dall'ultimo elemento, così da poter scegliere come pivot l'elemento immediatamente sopra."
   ]
  },
  {
   "cell_type": "code",
   "execution_count": 3,
   "metadata": {},
   "outputs": [],
   "source": [
    "# TODO da controllare se funziona per matrici non quadrate, e in caso implementare una versione funzionante.\n",
    "\n",
    "def Givens_Rotation_Matrix_Entries(a, b):\n",
    "    r = hypot(a, b)\n",
    "    c = a/r\n",
    "    s = b/r    \n",
    "    return c, s\n",
    "\n",
    "def Hessenberg_reduction(A):\n",
    "    # mi trovo gli indici della sottodiagonale corrispondente agli elementi da azzerare\n",
    "    (num_rows, num_cols) = np.shape(A)\n",
    "    # Q ci serve per calcolarci la forma di Schur\n",
    "    Q = np.identity(num_rows)\n",
    "\n",
    "    #itero sugli indici appena trovati \n",
    "    for col in range(num_cols-2):\n",
    "        for row in reversed(range(2+col,num_cols)):\n",
    "            # trova gli indici della matrice di givens unando come pivot [col, col](sempre != 0)\n",
    "            c, s = Givens_Rotation_Matrix_Entries(A[row-1, col], A[row, col])\n",
    "            #si costruisce la matrice di givens partendo dall'identità\n",
    "            G = np.identity(num_rows)\n",
    "            #assegna gli indici trovati precedentemente alla matrice di givens\n",
    "            G[row-1, row-1] = c\n",
    "            G[row, row] = c\n",
    "            G[row, row-1] = -s\n",
    "            G[row-1, row] = s\n",
    "            # annichilisce l'elemento in posizione A[row, col]\n",
    "            A = np.dot(G,A)\n",
    "            Q = np.dot(Q, G.T)\n",
    "\n",
    "    return A, Q"
   ]
  },
  {
   "cell_type": "code",
   "execution_count": null,
   "metadata": {},
   "outputs": [],
   "source": [
    "A = np.random.random((8, 8))\n",
    "(A, Q) = Hessenberg_reduction(A)\n",
    "print_matrix(A)"
   ]
  },
  {
   "attachments": {},
   "cell_type": "markdown",
   "metadata": {},
   "source": [
    "## Shifted QR\n",
    "Ora che abbiamo una matrice in forma di Hessenberg possiamo passare all'implementazione dello Shifted QR algorithm, l'aumento di velocità dipende dal fatto che, se si parte da una matrice in forma di Hessenberg allora sono necessarie solo O(n^2) operazioni.\n",
    "\n",
    "In particolare noi utilizzeremo una single shift strategy con i Rayleigh quotient shift"
   ]
  },
  {
   "cell_type": "code",
   "execution_count": 73,
   "metadata": {},
   "outputs": [],
   "source": [
    "def shifted_QR(A):\n",
    "    H, _ = Hessenberg_reduction(A)\n",
    "    (num_rows, num_cols) = np.shape(H)\n",
    "    U = np.eye(num_rows)\n",
    "    for m in range(num_rows-1, 2, -1):\n",
    "        while (H[m,m-1] > 1.e-5):\n",
    "            #print(\"Primo H[m,m]\", H[m,m])\n",
    "            #print(\"Prima\")\n",
    "            #print_matrix((H[m,m] * np.eye(num_rows)))\n",
    "            #print(\"Dopo\")\n",
    "            #print_matrix((H - (H[m,m] * np.eye(num_rows))))\n",
    "            #return\n",
    "            Q, R = np.linalg.qr(H - (H[m,m] * np.eye(num_rows)))\n",
    "            H = (R @ Q) + (H[m,m] * np.eye(num_rows))\n",
    "            U = U @ Q\n",
    "            #print(\"Secondo H[m,m]\", H[m,m])\n",
    "    return H, U"
   ]
  },
  {
   "cell_type": "code",
   "execution_count": 77,
   "metadata": {},
   "outputs": [
    {
     "name": "stdout",
     "output_type": "stream",
     "text": [
      "2.139674137377117\t-0.6264010789910119    \t1.3575909660462249   \t0.6832660942362185  \t-1.0026226558530835 \n",
      "0.0              \t0.6991960482493129     \t-0.005207446362703368\t-0.28671089268668687\t0.019877909492180084\n",
      "0.0              \t-1.3265787365160026e-56\t0.2772423819714724   \t0.45821116184681665 \t-0.4864845899708454 \n",
      "0.0              \t2.7705365400183288e-73 \t-0.9483587918098635  \t-0.4169490190150138 \t0.28969101840274525 \n",
      "0.0              \t0.0                    \t0.0                  \t0.0                 \t0.2207306963490373  \n"
     ]
    }
   ],
   "source": [
    "A = np.random.random((5, 5))\n",
    "(H, U) = shifted_QR(A)\n",
    "print_matrix(H)"
   ]
  }
 ],
 "metadata": {
  "kernelspec": {
   "display_name": "Python 3.10.7 64-bit",
   "language": "python",
   "name": "python3"
  },
  "language_info": {
   "codemirror_mode": {
    "name": "ipython",
    "version": 3
   },
   "file_extension": ".py",
   "mimetype": "text/x-python",
   "name": "python",
   "nbconvert_exporter": "python",
   "pygments_lexer": "ipython3",
   "version": "3.10.7"
  },
  "orig_nbformat": 4,
  "vscode": {
   "interpreter": {
    "hash": "5631ed1244acc908bdcc521c1152625356df314a59e330ff21c3c3488890eb87"
   }
  }
 },
 "nbformat": 4,
 "nbformat_minor": 2
}
